{
  "nbformat": 4,
  "nbformat_minor": 0,
  "metadata": {
    "colab": {
      "provenance": []
    },
    "kernelspec": {
      "name": "python3",
      "display_name": "Python 3"
    },
    "language_info": {
      "name": "python"
    }
  },
  "cells": [
    {
      "cell_type": "markdown",
      "source": [
        "#Hexagonal Architecture (Ports and Adapters)"
      ],
      "metadata": {
        "id": "UHhE1XMR0-5V"
      }
    },
    {
      "cell_type": "code",
      "execution_count": null,
      "metadata": {
        "colab": {
          "base_uri": "https://localhost:8080/"
        },
        "id": "wyMPQMWYxbak",
        "outputId": "36000f15-27b5-4951-cc4c-cde2ecfe6ba7"
      },
      "outputs": [
        {
          "output_type": "stream",
          "name": "stdout",
          "text": [
            "Writing core.py\n"
          ]
        }
      ],
      "source": [
        "%%writefile core.py\n",
        "# core.py\n",
        "\n",
        "class User:\n",
        "    def __init__(self, user_id, name, email):\n",
        "        self.user_id = user_id\n",
        "        self.name = name\n",
        "        self.email = email\n",
        "\n",
        "\n",
        "#Ports\n",
        "class UserRepository:\n",
        "    def __init__(self):\n",
        "        self.users = {}\n",
        "\n",
        "    def add_user(self, user):\n",
        "        self.users[user.user_id] = user\n",
        "\n",
        "    def get_user_by_id(self, user_id):\n",
        "        return self.users.get(user_id)\n",
        "\n",
        "class EmailService:\n",
        "    def send_email(self, to_email, subject, body):\n",
        "        raise NotImplementedError"
      ]
    },
    {
      "cell_type": "markdown",
      "source": [
        "#SQLite Adapter\n"
      ],
      "metadata": {
        "id": "boowgh-13NLk"
      }
    },
    {
      "cell_type": "code",
      "source": [
        "%%writefile sqlite_adapter.py\n",
        "# sqlite_adapter.py\n",
        "import sqlite3\n",
        "from core import UserRepository, User\n",
        "\n",
        "class SQLiteUserRepository(UserRepository):\n",
        "    def __init__(self):\n",
        "        self.connection = sqlite3.connect(\":memory__\")\n",
        "        self._create_table()\n",
        "\n",
        "    def _create_table(self):\n",
        "        cursor = self.connection.cursor()\n",
        "        cursor.execute(\"\"\"\n",
        "            CREATE TABLE users (\n",
        "                user_id TEXT PRIMARY KEY,\n",
        "                name TEXT NOT NULL,\n",
        "                email TEXT NOT NULL\n",
        "            )\n",
        "        \"\"\")\n",
        "        self.connection.commit()\n",
        "\n",
        "    def add_user(self, user):\n",
        "        cursor = self.connection.cursor()\n",
        "        cursor.execute(\"INSERT INTO users VALUES (?, ?, ?)\", (user.user_id, user.name, user.email))\n",
        "        self.connection.commit()\n",
        "\n",
        "    def get_user_by_id(self, user_id):\n",
        "        cursor = self.connection.cursor()\n",
        "        cursor.execute(\"SELECT * FROM users WHERE user_id = ?\", (user_id,))\n",
        "        row = cursor.fetchone()\n",
        "        if row:\n",
        "            return User(row[0], row[1], row[2])\n",
        "        return None"
      ],
      "metadata": {
        "colab": {
          "base_uri": "https://localhost:8080/"
        },
        "id": "DAtWQrLd3N7r",
        "outputId": "be45810b-6873-4339-da3e-e3c3c6ce2403"
      },
      "execution_count": null,
      "outputs": [
        {
          "output_type": "stream",
          "name": "stdout",
          "text": [
            "Writing sqlite_adapter.py\n"
          ]
        }
      ]
    },
    {
      "cell_type": "markdown",
      "source": [
        "#Email Service Adapter\n"
      ],
      "metadata": {
        "id": "cpWnR9qM4uxL"
      }
    },
    {
      "cell_type": "code",
      "source": [
        "%%writefile email_service_adapter.py\n",
        "# email_service_adapter.py\n",
        "import sqlite3\n",
        "from core import EmailService\n",
        "\n",
        "class ConsoleEmailService(EmailService):\n",
        "    def send_email(self, to_email, subject, body):\n",
        "        print(f\"Sending email to: {to_email}\")\n",
        "        print(f\"Subject: {subject}\")\n",
        "        print(f\"Body: {body}\")\n",
        "        print(\"Email sent successfully.\")"
      ],
      "metadata": {
        "colab": {
          "base_uri": "https://localhost:8080/"
        },
        "id": "CWpdpk6i4v2i",
        "outputId": "940e6bf4-0506-4b5e-c2a0-66d387ebbee5"
      },
      "execution_count": null,
      "outputs": [
        {
          "output_type": "stream",
          "name": "stdout",
          "text": [
            "Writing email_service_adapter.py\n"
          ]
        }
      ]
    },
    {
      "cell_type": "markdown",
      "source": [
        "#Application Services\n"
      ],
      "metadata": {
        "id": "beOHFJ2C6ILj"
      }
    },
    {
      "cell_type": "code",
      "source": [
        "%%writefile user_service.py\n",
        "\n",
        "# user_service.py\n",
        "from core import User\n",
        "\n",
        "class UserService:\n",
        "    def __init__(self, user_repository, email_service):\n",
        "        self.user_repository = user_repository\n",
        "        self.email_service = email_service\n",
        "\n",
        "    def register_user(self, user_id, name, email):\n",
        "        user = User(user_id, name, email)\n",
        "        self.user_repository.add_user(user)\n",
        "        self.email_service.send_email(email, \"Welcome!\", f\"Hello {name}, welcome to our platform!\")"
      ],
      "metadata": {
        "colab": {
          "base_uri": "https://localhost:8080/"
        },
        "id": "7sv0zi896JKj",
        "outputId": "d571405f-2727-4932-b13c-1dc6c821002d"
      },
      "execution_count": null,
      "outputs": [
        {
          "output_type": "stream",
          "name": "stdout",
          "text": [
            "Writing user_service.py\n"
          ]
        }
      ]
    },
    {
      "cell_type": "code",
      "source": [
        "# app.py\n",
        "from core import User\n",
        "from sqlite_adapter import SQLiteUserRepository\n",
        "from email_service_adapter import ConsoleEmailService\n",
        "from user_service import UserService\n",
        "\n",
        "def main():\n",
        "    # Create repositories and services\n",
        "    user_repo = SQLiteUserRepository()\n",
        "    email_service = ConsoleEmailService()\n",
        "    user_service = UserService(user_repo, email_service)\n",
        "\n",
        "    # Register new user\n",
        "    user_id = input(\"Enter user ID: \")\n",
        "    name = input(\"Enter name: \")\n",
        "    email = input(\"Enter email: \")\n",
        "\n",
        "    user_service.register_user(user_id, name, email)\n",
        "    print(\"User registered successfully!\")\n",
        "\n",
        "if __name__ == \"__main__\":\n",
        "    main()"
      ],
      "metadata": {
        "colab": {
          "base_uri": "https://localhost:8080/"
        },
        "id": "VJGykUYJ6MWL",
        "outputId": "cd1f3a7a-33fc-4a09-e686-70732da1b9d4"
      },
      "execution_count": null,
      "outputs": [
        {
          "output_type": "stream",
          "name": "stdout",
          "text": [
            "Enter user ID: 1\n",
            "Enter name: Aaron\n",
            "Enter email: aaron@gmail.com\n",
            "Sending email to: aaron@gmail.com\n",
            "Subject: Welcome!\n",
            "Body: Hello Aaron, welcome to our platform!\n",
            "Email sent successfully.\n",
            "User registered successfully!\n"
          ]
        }
      ]
    }
  ]
}