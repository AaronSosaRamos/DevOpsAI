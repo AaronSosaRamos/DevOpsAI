{
  "nbformat": 4,
  "nbformat_minor": 0,
  "metadata": {
    "colab": {
      "provenance": []
    },
    "kernelspec": {
      "name": "python3",
      "display_name": "Python 3"
    },
    "language_info": {
      "name": "python"
    }
  },
  "cells": [
    {
      "cell_type": "markdown",
      "source": [
        "#Service-Oriented Architecture (SOA)"
      ],
      "metadata": {
        "id": "wXcC0XJxk5jK"
      }
    },
    {
      "cell_type": "markdown",
      "source": [
        "The fundamental concept of breaking down software systems into modular services that are independent, loosely coupled, and interoperable. Services communicate with each other over a network using standard protocols."
      ],
      "metadata": {
        "id": "Wir5YHSdk_2S"
      }
    },
    {
      "cell_type": "markdown",
      "source": [
        "Producer"
      ],
      "metadata": {
        "id": "gFQguQCflD5y"
      }
    },
    {
      "cell_type": "code",
      "execution_count": null,
      "metadata": {
        "id": "Gtcb9K2dk5Fu"
      },
      "outputs": [],
      "source": [
        "from flask import Flask\n",
        "\n",
        "app = Flask(__name__)\n",
        "\n",
        "@app.route('/greet', methods=['GET'])\n",
        "def greet():\n",
        "    return \"Hello from Service A!\"\n",
        "\n",
        "if __name__ == '__main__':\n",
        "    app.run(host='0.0.0.0', port=5000)"
      ]
    },
    {
      "cell_type": "markdown",
      "source": [
        "Consumer"
      ],
      "metadata": {
        "id": "5qpuo6zAlI0r"
      }
    },
    {
      "cell_type": "code",
      "source": [
        "import requests\n",
        "\n",
        "def consume_greeting():\n",
        "    response = requests.get('http://localhost:5000/greet')\n",
        "    if response.status_code == 200:\n",
        "        return response.text\n",
        "    else:\n",
        "        return \"Failed to get greeting from Service A\"\n",
        "\n",
        "if __name__ == '__main__':\n",
        "    greeting = consume_greeting()\n",
        "    print(\"Received greeting:\", greeting)"
      ],
      "metadata": {
        "id": "GNDs3znylJGr"
      },
      "execution_count": null,
      "outputs": []
    },
    {
      "cell_type": "markdown",
      "source": [
        "#Service-Inventory"
      ],
      "metadata": {
        "id": "m-EgVIlGld0F"
      }
    },
    {
      "cell_type": "markdown",
      "source": [
        "An inventory of discoverable services that are available for use within the architecture. This pattern emphasizes the importance of cataloging and managing services centrally."
      ],
      "metadata": {
        "id": "zj-qB4LplmSW"
      }
    },
    {
      "cell_type": "markdown",
      "source": [
        "Service-Registry"
      ],
      "metadata": {
        "id": "w-5DZXGrlu0H"
      }
    },
    {
      "cell_type": "code",
      "source": [
        "from flask import Flask, jsonify, request\n",
        "\n",
        "app = Flask(__name__)\n",
        "services = {}\n",
        "\n",
        "@app.route('/register', methods=['POST'])\n",
        "def register_service():\n",
        "    data = request.get_json()\n",
        "    service_name = data.get('name')\n",
        "    service_url = data.get('url')\n",
        "\n",
        "    if service_name and service_url:\n",
        "        services[service_name] = service_url\n",
        "        return jsonify({'message': f'Service {service_name} registered successfully'}), 201\n",
        "    else:\n",
        "        return jsonify({'error': 'Invalid service registration data'}), 400\n",
        "\n",
        "@app.route('/discover/<service_name>', methods=['GET'])\n",
        "def discover_service(service_name):\n",
        "    if service_name in services:\n",
        "        return jsonify({'service_url': services[service_name]}), 200\n",
        "    else:\n",
        "        return jsonify({'error': f'Service {service_name} not found'}), 404\n",
        "\n",
        "if __name__ == '__main__':\n",
        "    app.run(host='0.0.0.0', port=5001)"
      ],
      "metadata": {
        "id": "8YYWcez1lgR1"
      },
      "execution_count": null,
      "outputs": []
    },
    {
      "cell_type": "markdown",
      "source": [
        "Registering a Service\n"
      ],
      "metadata": {
        "id": "FPFX_0Q5l4_2"
      }
    },
    {
      "cell_type": "code",
      "source": [
        "import requests\n",
        "\n",
        "service_name = 'ServiceA'\n",
        "service_url = 'http://localhost:5000'  # URL of the service to register\n",
        "\n",
        "payload = {\n",
        "    'name': service_name,\n",
        "    'url': service_url\n",
        "}\n",
        "\n",
        "response = requests.post('http://localhost:5001/register', json=payload)\n",
        "\n",
        "if response.status_code == 201:\n",
        "    print(f\"Service {service_name} registered successfully.\")\n",
        "else:\n",
        "    print(f\"Failed to register Service {service_name}.\")"
      ],
      "metadata": {
        "id": "NhJmWMQtl5Vf"
      },
      "execution_count": null,
      "outputs": []
    },
    {
      "cell_type": "markdown",
      "source": [
        "Discovering a Service\n"
      ],
      "metadata": {
        "id": "3NfOmA4Bl-SQ"
      }
    },
    {
      "cell_type": "code",
      "source": [
        "import requests\n",
        "\n",
        "service_name = 'ServiceA'  # Name of the service to discover\n",
        "\n",
        "response = requests.get(f'http://localhost:5001/discover/{service_name}')\n",
        "\n",
        "if response.status_code == 200:\n",
        "    service_info = response.json()\n",
        "    service_url = service_info['service_url']\n",
        "    print(f\"Service {service_name} found at {service_url}.\")\n",
        "else:\n",
        "    print(f\"Service {service_name} not found.\")"
      ],
      "metadata": {
        "id": "n3PSDl7ul-kX"
      },
      "execution_count": null,
      "outputs": []
    },
    {
      "cell_type": "markdown",
      "source": [
        "#Service-Oriented Integration (SOI):\n",
        "Integrating various services and systems using standardized interfaces and protocols. SOI promotes the reuse of existing services and data sources to build new applications."
      ],
      "metadata": {
        "id": "wthm5LvVmIvU"
      }
    },
    {
      "cell_type": "code",
      "source": [
        "from flask import Flask, jsonify\n",
        "\n",
        "app = Flask(__name__)\n",
        "\n",
        "users = {\n",
        "    '1': {'name': 'Alice', 'age': 30, 'city': 'New York'},\n",
        "    '2': {'name': 'Bob', 'age': 25, 'city': 'San Francisco'},\n",
        "}\n",
        "\n",
        "@app.route('/users/<user_id>', methods=['GET'])\n",
        "def get_user(user_id):\n",
        "    user = users.get(user_id)\n",
        "    if user:\n",
        "        return jsonify(user), 200\n",
        "    else:\n",
        "        return jsonify({'error': 'User not found'}), 404\n",
        "\n",
        "if __name__ == '__main__':\n",
        "    app.run(host='0.0.0.0', port=5000)"
      ],
      "metadata": {
        "id": "bCk4uYHemJ0D"
      },
      "execution_count": null,
      "outputs": []
    },
    {
      "cell_type": "code",
      "source": [
        "from flask import Flask, jsonify\n",
        "\n",
        "app = Flask(__name__)\n",
        "\n",
        "products = {\n",
        "    '101': {'name': 'Laptop', 'price': 1200},\n",
        "    '102': {'name': 'Smartphone', 'price': 800},\n",
        "}\n",
        "\n",
        "@app.route('/products/<product_id>', methods=['GET'])\n",
        "def get_product(product_id):\n",
        "    product = products.get(product_id)\n",
        "    if product:\n",
        "        return jsonify(product), 200\n",
        "    else:\n",
        "        return jsonify({'error': 'Product not found'}), 404\n",
        "\n",
        "if __name__ == '__main__':\n",
        "    app.run(host='0.0.0.0', port=5001)"
      ],
      "metadata": {
        "id": "SEKE7FL2omXB"
      },
      "execution_count": null,
      "outputs": []
    },
    {
      "cell_type": "markdown",
      "source": [
        "Integration Service"
      ],
      "metadata": {
        "id": "NRdiXKFsovSA"
      }
    },
    {
      "cell_type": "code",
      "source": [
        "from flask import Flask, jsonify\n",
        "import requests\n",
        "\n",
        "app = Flask(__name__)\n",
        "\n",
        "service_a_url = 'http://localhost:5000'\n",
        "service_b_url = 'http://localhost:5001'\n",
        "\n",
        "@app.route('/user_product/<user_id>', methods=['GET'])\n",
        "def get_user_product(user_id):\n",
        "    user_url = f\"{service_a_url}/users/{user_id}\"\n",
        "    product_url = f\"{service_b_url}/products/{user_id}\"\n",
        "\n",
        "    user_response = requests.get(user_url)\n",
        "    product_response = requests.get(product_url)\n",
        "\n",
        "    if user_response.status_code == 200 and product_response.status_code == 200:\n",
        "        user_data = user_response.json()\n",
        "        product_data = product_response.json()\n",
        "\n",
        "        user_product_info = {\n",
        "            'user_id': user_id,\n",
        "            'user_name': user_data['name'],\n",
        "            'user_age': user_data['age'],\n",
        "            'product_name': product_data['name'],\n",
        "            'product_price': product_data['price']\n",
        "        }\n",
        "\n",
        "        return jsonify(user_product_info), 200\n",
        "    else:\n",
        "        return jsonify({'error': 'Failed to retrieve user or product data'}), 404\n",
        "\n",
        "if __name__ == '__main__':\n",
        "    app.run(host='0.0.0.0', port=5002)"
      ],
      "metadata": {
        "id": "Ym46G-Yqo1Vp"
      },
      "execution_count": null,
      "outputs": []
    },
    {
      "cell_type": "markdown",
      "source": [
        "#Enterprise Service Bus (ESB):\n",
        "A centralized middleware component that facilitates communication and integration between services using a bus-like infrastructure. The ESB manages message routing, transformation, and mediation."
      ],
      "metadata": {
        "id": "0vhm_uA5o6NU"
      }
    },
    {
      "cell_type": "markdown",
      "source": [
        "ESB (Message Broker)\n"
      ],
      "metadata": {
        "id": "iLscojvspM88"
      }
    },
    {
      "cell_type": "code",
      "source": [
        "import pika\n",
        "\n",
        "# Establish connection to RabbitMQ server\n",
        "connection = pika.BlockingConnection(pika.ConnectionParameters('localhost'))\n",
        "channel = connection.channel()\n",
        "\n",
        "# Declare the exchange\n",
        "channel.exchange_declare(exchange='esb_exchange', exchange_type='direct')\n",
        "\n",
        "# Declare queues for services\n",
        "channel.queue_declare(queue='service_a_queue')\n",
        "channel.queue_declare(queue='service_b_queue')\n",
        "\n",
        "def callback(ch, method, properties, body):\n",
        "    # Handle received message\n",
        "    message = body.decode()\n",
        "    print(f\"Received message: {message}\")\n",
        "\n",
        "    # Example: Route message based on routing key\n",
        "    if method.routing_key == 'service_a':\n",
        "        # Forward message to ServiceA queue\n",
        "        channel.basic_publish(exchange='', routing_key='service_a_queue', body=message)\n",
        "        print(\"Message forwarded to ServiceA\")\n",
        "    elif method.routing_key == 'service_b':\n",
        "        # Forward message to ServiceB queue\n",
        "        channel.basic_publish(exchange='', routing_key='service_b_queue', body=message)\n",
        "        print(\"Message forwarded to ServiceB\")\n",
        "\n",
        "# Bind queues to exchange with routing keys\n",
        "channel.queue_bind(exchange='esb_exchange', queue='service_a_queue', routing_key='service_a')\n",
        "channel.queue_bind(exchange='esb_exchange', queue='service_b_queue', routing_key='service_b')\n",
        "\n",
        "# Start consuming messages\n",
        "channel.basic_consume(queue='esb_queue', on_message_callback=callback, auto_ack=True)\n",
        "\n",
        "print('ESB (Message Broker) started. Waiting for messages...')\n",
        "channel.start_consuming()"
      ],
      "metadata": {
        "id": "7Ynj8Sqlo6uy"
      },
      "execution_count": null,
      "outputs": []
    },
    {
      "cell_type": "markdown",
      "source": [
        "ServiceA"
      ],
      "metadata": {
        "id": "z18_OTjRpVQ-"
      }
    },
    {
      "cell_type": "code",
      "source": [
        "import pika\n",
        "\n",
        "# Establish connection to RabbitMQ server\n",
        "connection = pika.BlockingConnection(pika.ConnectionParameters('localhost'))\n",
        "channel = connection.channel()\n",
        "\n",
        "# Publish message to ESB with routing key for ServiceA\n",
        "channel.basic_publish(exchange='esb_exchange', routing_key='service_a', body='Hello from ServiceA')\n",
        "\n",
        "print(\"Message sent from ServiceA to ESB\")\n",
        "\n",
        "connection.close()"
      ],
      "metadata": {
        "id": "p0OsAMX8pVhl"
      },
      "execution_count": null,
      "outputs": []
    },
    {
      "cell_type": "markdown",
      "source": [
        "ServiceB\n"
      ],
      "metadata": {
        "id": "Vf-rVCSkph6v"
      }
    },
    {
      "cell_type": "code",
      "source": [
        "import pika\n",
        "\n",
        "# Establish connection to RabbitMQ server\n",
        "connection = pika.BlockingConnection(pika.ConnectionParameters('localhost'))\n",
        "channel = connection.channel()\n",
        "\n",
        "# Publish message to ESB with routing key for ServiceB\n",
        "channel.basic_publish(exchange='esb_exchange', routing_key='service_b', body='Data from ServiceB')\n",
        "\n",
        "print(\"Message sent from ServiceB to ESB\")\n",
        "\n",
        "connection.close()"
      ],
      "metadata": {
        "id": "qITyEADMpiXI"
      },
      "execution_count": null,
      "outputs": []
    },
    {
      "cell_type": "markdown",
      "source": [
        "#Service Choreography:\n",
        "Describing the interaction and coordination of services in a distributed system. Service choreography focuses on defining the sequence of interactions without a central controller."
      ],
      "metadata": {
        "id": "2EAFWQJxpoye"
      }
    },
    {
      "cell_type": "code",
      "source": [
        "import time\n",
        "from threading import Thread, Event\n",
        "\n",
        "class ServiceA(Thread):\n",
        "    def __init__(self):\n",
        "        super().__init__()\n",
        "        self.stop_event = Event()\n",
        "\n",
        "    def run(self):\n",
        "        print(\"Service A started.\")\n",
        "        while not self.stop_event.is_set():\n",
        "            # Perform service-specific tasks\n",
        "            time.sleep(2)  # Simulate processing time\n",
        "            print(\"Service A: Sending event to Service B\")\n",
        "            event = {\n",
        "                'event_type': 'GREETING',\n",
        "                'data': 'Hello from Service A!'\n",
        "            }\n",
        "            service_b.handle_event(event)\n",
        "\n",
        "    def stop(self):\n",
        "        self.stop_event.set()\n",
        "\n",
        "service_a = ServiceA()\n",
        "service_a.start()"
      ],
      "metadata": {
        "colab": {
          "base_uri": "https://localhost:8080/"
        },
        "id": "_JlpSTCBppnG",
        "outputId": "c6e13c11-d850-42ca-eaeb-90b61508e24c"
      },
      "execution_count": null,
      "outputs": [
        {
          "output_type": "stream",
          "name": "stdout",
          "text": [
            "Service A started.\n"
          ]
        }
      ]
    },
    {
      "cell_type": "code",
      "source": [
        "class ServiceB:\n",
        "    def handle_event(self, event):\n",
        "        event_type = event['event_type']\n",
        "        if event_type == 'GREETING':\n",
        "            data = event['data']\n",
        "            print(f\"Service B: Received greeting - {data}\")\n",
        "\n",
        "service_b = ServiceB()"
      ],
      "metadata": {
        "id": "reClKUEmp6BS"
      },
      "execution_count": null,
      "outputs": []
    },
    {
      "cell_type": "code",
      "source": [
        "import time\n",
        "from threading import Thread, Event\n",
        "from queue import Queue\n",
        "\n",
        "class ServiceA(Thread):\n",
        "    def __init__(self, event_queue):\n",
        "        super().__init__()\n",
        "        self.event_queue = event_queue\n",
        "        self.stop_event = Event()\n",
        "\n",
        "    def run(self):\n",
        "        print(\"Service A started.\")\n",
        "        while not self.stop_event.is_set():\n",
        "            time.sleep(2)  # Simulate processing time\n",
        "            event = {'event_type': 'GREETING', 'data': 'Hello from Service A!'}\n",
        "            self.event_queue.put(event)\n",
        "\n",
        "    def stop(self):\n",
        "        self.stop_event.set()\n",
        "\n",
        "# Create an event queue for inter-service communication\n",
        "event_queue = Queue()\n",
        "service_a = ServiceA(event_queue)\n",
        "service_a.start()"
      ],
      "metadata": {
        "colab": {
          "base_uri": "https://localhost:8080/"
        },
        "id": "gfTHuBPTqFmD",
        "outputId": "567cd1b0-98cc-4e41-ccbe-e8156c5c0338"
      },
      "execution_count": null,
      "outputs": [
        {
          "output_type": "stream",
          "name": "stdout",
          "text": [
            "Service A started.\n"
          ]
        }
      ]
    },
    {
      "cell_type": "code",
      "source": [
        "import time\n",
        "from threading import Thread\n",
        "from queue import Queue\n",
        "\n",
        "class ServiceB(Thread):\n",
        "    def __init__(self, event_queue):\n",
        "        super().__init__()\n",
        "        self.event_queue = event_queue\n",
        "        self.stop_event = Event()\n",
        "\n",
        "    def run(self):\n",
        "        print(\"Service B started.\")\n",
        "        while not self.stop_event.is_set():\n",
        "            if not self.event_queue.empty():\n",
        "                event = self.event_queue.get()\n",
        "                self.handle_event(event)\n",
        "            time.sleep(1)  # Simulate processing time\n",
        "\n",
        "    def handle_event(self, event):\n",
        "        event_type = event['event_type']\n",
        "        if event_type == 'GREETING':\n",
        "            data = event['data']\n",
        "            print(f\"Service B received: {data}\")\n",
        "\n",
        "# Create an event queue for inter-service communication\n",
        "event_queue = Queue()\n",
        "service_b = ServiceB(event_queue)\n",
        "service_b.start()"
      ],
      "metadata": {
        "colab": {
          "base_uri": "https://localhost:8080/"
        },
        "id": "eKCcT9TdqG-k",
        "outputId": "779b8042-b629-4c0f-ba5b-b47ee0d5f077"
      },
      "execution_count": null,
      "outputs": [
        {
          "output_type": "stream",
          "name": "stdout",
          "text": [
            "Service B started.\n"
          ]
        }
      ]
    },
    {
      "cell_type": "code",
      "source": [
        "import asyncio\n",
        "import websockets\n",
        "\n",
        "async def send_messages():\n",
        "    async with websockets.connect('ws://localhost:8765') as websocket:\n",
        "        while True:\n",
        "            message = input(\"Enter a message to send to ServiceB (or type 'exit' to quit): \")\n",
        "            if message.lower() == 'exit':\n",
        "                break\n",
        "            await websocket.send(message)\n",
        "            print(f\"Sent to ServiceB: {message}\")\n",
        "\n",
        "asyncio.run(send_messages())"
      ],
      "metadata": {
        "id": "61ZJKYHRqVc0"
      },
      "execution_count": null,
      "outputs": []
    },
    {
      "cell_type": "code",
      "source": [
        "import asyncio\n",
        "import websockets\n",
        "\n",
        "async def handle_messages(websocket, path):\n",
        "    print(\"ServiceB connected to ServiceA\")\n",
        "    try:\n",
        "        async for message in websocket:\n",
        "            print(f\"Received from ServiceA: {message}\")\n",
        "            # Process the message here (e.g., perform some action based on the message)\n",
        "    finally:\n",
        "        print(\"ServiceA disconnected\")\n",
        "\n",
        "start_server = websockets.serve(handle_messages, 'localhost', 8765)\n",
        "\n",
        "asyncio.get_event_loop().run_until_complete(start_server)\n",
        "asyncio.get_event_loop().run_forever()"
      ],
      "metadata": {
        "id": "WeU2yqo4qWWl"
      },
      "execution_count": null,
      "outputs": []
    },
    {
      "cell_type": "markdown",
      "source": [
        "#Service Orchestration:\n",
        "Coordination of multiple services to achieve a specific business goal. In this pattern, a central orchestrator (or process manager) controls the flow of messages and coordinates service invocations."
      ],
      "metadata": {
        "id": "2M5jTVnDp5sC"
      }
    },
    {
      "cell_type": "markdown",
      "source": [
        "ServiceOrchestrator"
      ],
      "metadata": {
        "id": "RBFt7yB5qq0B"
      }
    },
    {
      "cell_type": "code",
      "source": [
        "from flask import Flask, jsonify\n",
        "import requests\n",
        "\n",
        "app = Flask(__name__)\n",
        "\n",
        "@app.route('/orchestrate', methods=['GET'])\n",
        "def orchestrate_workflow():\n",
        "    try:\n",
        "        # Step 1: Invoke ServiceA\n",
        "        response_a = requests.get('http://localhost:5000/greet')\n",
        "        if response_a.status_code == 200:\n",
        "            greeting_message = response_a.text.strip()\n",
        "        else:\n",
        "            raise Exception(\"Failed to get greeting from ServiceA\")\n",
        "\n",
        "        # Step 2: Invoke ServiceB with data from ServiceA\n",
        "        payload = {'message': greeting_message}\n",
        "        response_b = requests.post('http://localhost:5001/process', json=payload)\n",
        "        if response_b.status_code == 200:\n",
        "            processed_data = response_b.json()\n",
        "        else:\n",
        "            raise Exception(\"Failed to process data in ServiceB\")\n",
        "\n",
        "        # Step 3: Invoke ServiceC with processed data from ServiceB\n",
        "        response_c = requests.post('http://localhost:5002/analyze', json=processed_data)\n",
        "        if response_c.status_code == 200:\n",
        "            analysis_result = response_c.json()\n",
        "            return jsonify(analysis_result), 200\n",
        "        else:\n",
        "            raise Exception(\"Failed to analyze data in ServiceC\")\n",
        "\n",
        "    except Exception as e:\n",
        "        error_message = str(e)\n",
        "        return jsonify({'error': error_message}), 500\n",
        "\n",
        "if __name__ == '__main__':\n",
        "    app.run(host='0.0.0.0', port=5003)"
      ],
      "metadata": {
        "id": "ID-stMJ7qilT"
      },
      "execution_count": null,
      "outputs": []
    },
    {
      "cell_type": "markdown",
      "source": [
        "#Composite Services:\n",
        "Aggregating multiple services into a single logical unit to provide more complex functionality. Composite services orchestrate lower-level services to fulfill specific business requirements."
      ],
      "metadata": {
        "id": "b0zvgw6rrBLg"
      }
    },
    {
      "cell_type": "code",
      "source": [
        "from flask import Flask, jsonify\n",
        "import requests\n",
        "\n",
        "app = Flask(__name__)\n",
        "\n",
        "@app.route('/composite_function', methods=['GET'])\n",
        "def composite_function():\n",
        "    try:\n",
        "        # Step 1: Invoke ServiceA to get a greeting message\n",
        "        response_a = requests.get('http://localhost:5000/greet')\n",
        "        if response_a.status_code == 200:\n",
        "            greeting_message = response_a.text.strip()\n",
        "        else:\n",
        "            raise Exception(\"Failed to get greeting from ServiceA\")\n",
        "\n",
        "        # Step 2: Invoke ServiceB to get some data\n",
        "        response_b = requests.get('http://localhost:5001/data')\n",
        "        if response_b.status_code == 200:\n",
        "            data = response_b.json()\n",
        "        else:\n",
        "            raise Exception(\"Failed to get data from ServiceB\")\n",
        "\n",
        "        # Step 3: Combine results from ServiceA and ServiceB\n",
        "        composite_result = {\n",
        "            'greeting': greeting_message,\n",
        "            'data_from_service_b': data\n",
        "        }\n",
        "\n",
        "        return jsonify(composite_result), 200\n",
        "\n",
        "    except Exception as e:\n",
        "        error_message = str(e)\n",
        "        return jsonify({'error': error_message}), 500\n",
        "\n",
        "if __name__ == '__main__':\n",
        "    app.run(host='0.0.0.0', port=5004)"
      ],
      "metadata": {
        "id": "TUbj6VB9rCJM"
      },
      "execution_count": null,
      "outputs": []
    },
    {
      "cell_type": "markdown",
      "source": [
        "#Service Registry and Discovery:\n",
        "A pattern that involves a central repository (registry) where services are published and can be discovered by other services dynamically at runtime. This facilitates loose coupling and runtime flexibility."
      ],
      "metadata": {
        "id": "1MntCDSd6Dn5"
      }
    },
    {
      "cell_type": "markdown",
      "source": [
        "ServiceRegistry"
      ],
      "metadata": {
        "id": "aUcLnaWs6Yrs"
      }
    },
    {
      "cell_type": "code",
      "source": [
        "from flask import Flask, jsonify, request\n",
        "\n",
        "app = Flask(__name__)\n",
        "services = {}\n",
        "\n",
        "@app.route('/register', methods=['POST'])\n",
        "def register_service():\n",
        "    data = request.get_json()\n",
        "    service_name = data.get('name')\n",
        "    service_url = data.get('url')\n",
        "\n",
        "    if service_name and service_url:\n",
        "        services[service_name] = service_url\n",
        "        return jsonify({'message': f'Service {service_name} registered successfully'}), 201\n",
        "    else:\n",
        "        return jsonify({'error': 'Invalid service registration data'}), 400\n",
        "\n",
        "@app.route('/discover/<service_name>', methods=['GET'])\n",
        "def discover_service(service_name):\n",
        "    if service_name in services:\n",
        "        return jsonify({'service_url': services[service_name]}), 200\n",
        "    else:\n",
        "        return jsonify({'error': f'Service {service_name} not found'}), 404\n",
        "\n",
        "if __name__ == '__main__':\n",
        "    app.run(host='0.0.0.0', port=5000)"
      ],
      "metadata": {
        "id": "l-ZfsO8U6ETY"
      },
      "execution_count": null,
      "outputs": []
    },
    {
      "cell_type": "markdown",
      "source": [
        "ServiceA"
      ],
      "metadata": {
        "id": "aHSOzi-86bNE"
      }
    },
    {
      "cell_type": "code",
      "source": [
        "from flask import Flask\n",
        "\n",
        "app = Flask(__name__)\n",
        "\n",
        "@app.route('/greet', methods=['GET'])\n",
        "def greet():\n",
        "    return \"Hello from ServiceA!\"\n",
        "\n",
        "if __name__ == '__main__':\n",
        "    app.run(host='0.0.0.0', port=5001)"
      ],
      "metadata": {
        "id": "Ldn_6snM6be0"
      },
      "execution_count": null,
      "outputs": []
    },
    {
      "cell_type": "markdown",
      "source": [
        "Service Registry Client\n"
      ],
      "metadata": {
        "id": "ir37qEgc6d-F"
      }
    },
    {
      "cell_type": "code",
      "source": [
        "import requests\n",
        "\n",
        "def register_service(name, url):\n",
        "    data = {'name': name, 'url': url}\n",
        "    response = requests.post('http://localhost:5000/register', json=data)\n",
        "    return response.json()\n",
        "\n",
        "def discover_service(service_name):\n",
        "    response = requests.get(f'http://localhost:5000/discover/{service_name}')\n",
        "    if response.status_code == 200:\n",
        "        return response.json()['service_url']\n",
        "    else:\n",
        "        return None\n",
        "\n",
        "# Register ServiceA with the service registry\n",
        "register_service('ServiceA', 'http://localhost:5001')\n",
        "\n",
        "# Discover ServiceA using the service registry\n",
        "service_a_url = discover_service('ServiceA')\n",
        "if service_a_url:\n",
        "    print(f\"ServiceA discovered at: {service_a_url}\")\n",
        "else:\n",
        "    print(\"ServiceA not found in the registry\")"
      ],
      "metadata": {
        "id": "134t8q0C6eNd"
      },
      "execution_count": null,
      "outputs": []
    },
    {
      "cell_type": "markdown",
      "source": [
        "#Policy-Driven SOA:\n",
        "Implementing policies (e.g., security, governance, quality of service) at the service level. Policies are centrally managed and enforced across the architecture to ensure compliance and consistency."
      ],
      "metadata": {
        "id": "9ufUZCDK68IZ"
      }
    },
    {
      "cell_type": "code",
      "source": [
        "import time\n",
        "from functools import wraps\n",
        "\n",
        "# Define a decorator function for rate limiting\n",
        "def rate_limit(max_requests, period):\n",
        "    \"\"\"\n",
        "    Decorator function to enforce rate limiting on a service endpoint.\n",
        "\n",
        "    Args:\n",
        "        max_requests (int): Maximum number of requests allowed in the specified period.\n",
        "        period (float): Time period (in seconds) during which the requests are counted.\n",
        "\n",
        "    Returns:\n",
        "        function: Decorated function with rate-limiting enforcement.\n",
        "    \"\"\"\n",
        "    def decorator(func):\n",
        "        request_history = []\n",
        "\n",
        "        @wraps(func)\n",
        "        def wrapper(*args, **kwargs):\n",
        "            current_time = time.time()\n",
        "\n",
        "            # Remove expired entries from request history\n",
        "            request_history[:] = [req_time for req_time in request_history if (current_time - req_time) <= period]\n",
        "\n",
        "            if len(request_history) < max_requests:\n",
        "                # Add current request time to history\n",
        "                request_history.append(current_time)\n",
        "                return func(*args, **kwargs)\n",
        "            else:\n",
        "                return \"Rate limit exceeded. Please try again later.\", 429  # HTTP 429 Too Many Requests\n",
        "\n",
        "        return wrapper\n",
        "    return decorator"
      ],
      "metadata": {
        "id": "lIqE_HqA69tx"
      },
      "execution_count": null,
      "outputs": []
    },
    {
      "cell_type": "code",
      "source": [
        "from flask import Flask\n",
        "from policy_enforcement import rate_limit\n",
        "\n",
        "app = Flask(__name__)\n",
        "\n",
        "# Apply rate limiting policy (max 5 requests per 10 seconds) to the /example endpoint\n",
        "@app.route('/example')\n",
        "@rate_limit(max_requests=5, period=10)\n",
        "def example_endpoint():\n",
        "    return \"Hello, welcome to the example endpoint!\"\n",
        "\n",
        "if __name__ == '__main__':\n",
        "    app.run(host='0.0.0.0', port=5000)"
      ],
      "metadata": {
        "id": "fknDisCt7HMb"
      },
      "execution_count": null,
      "outputs": []
    },
    {
      "cell_type": "markdown",
      "source": [
        "#Cloud-Based SOA:\n",
        "Leveraging cloud computing resources to implement and deploy services within an SOA. This pattern enables scalability, elasticity, and accessibility of services across distributed environments."
      ],
      "metadata": {
        "id": "x2mfhaJ47Kmq"
      }
    },
    {
      "cell_type": "markdown",
      "source": [
        "Create AWS Lambda Function"
      ],
      "metadata": {
        "id": "X9Mfzl-V7fVv"
      }
    },
    {
      "cell_type": "code",
      "source": [
        "def lambda_handler(event, context):\n",
        "    # Process incoming event (e.g., perform some computation)\n",
        "    message = event.get('message', 'Hello from AWS Lambda!')\n",
        "    return {\n",
        "        'statusCode': 200,\n",
        "        'body': message\n",
        "    }\n"
      ],
      "metadata": {
        "id": "1IMLYLRv7LXF"
      },
      "execution_count": null,
      "outputs": []
    },
    {
      "cell_type": "markdown",
      "source": [
        "Deploy AWS Lambda Function"
      ],
      "metadata": {
        "id": "iKhgKfQ-7l5R"
      }
    },
    {
      "cell_type": "code",
      "source": [
        "# Create a deployment package (ZIP file) containing the lambda_function.py\n",
        "zip lambda_function.zip lambda_function.py\n",
        "\n",
        "# Create the Lambda function using AWS CLI\n",
        "aws lambda create-function \\\n",
        "    --function-name my-lambda-function \\\n",
        "    --runtime python3.8 \\\n",
        "    --handler lambda_function.lambda_handler \\\n",
        "    --role <lambda-execution-role-arn> \\\n",
        "    --zip-file fileb://lambda_function.zip"
      ],
      "metadata": {
        "id": "3cPYn4Wu7lsm"
      },
      "execution_count": null,
      "outputs": []
    },
    {
      "cell_type": "markdown",
      "source": [
        "Invoke AWS Lambda Function"
      ],
      "metadata": {
        "id": "Y_IEovfQ7rYQ"
      }
    },
    {
      "cell_type": "code",
      "source": [
        "aws lambda invoke \\\n",
        "    --function-name my-lambda-function \\\n",
        "    --payload '{\"message\": \"Hello from AWS Lambda!\"}' \\\n",
        "    output.json"
      ],
      "metadata": {
        "id": "e5GdqDhR7lR_"
      },
      "execution_count": null,
      "outputs": []
    },
    {
      "cell_type": "markdown",
      "source": [
        "Integrate with AWS API Gateway"
      ],
      "metadata": {
        "id": "K8kkzuKR7yIn"
      }
    },
    {
      "cell_type": "code",
      "source": [
        "# Create an API Gateway REST API\n",
        "aws apigateway create-rest-api --name my-api\n",
        "\n",
        "# Get the API ID\n",
        "API_ID=$(aws apigateway get-rest-apis --query \"items[?name=='my-api'].id\" --output text)\n",
        "\n",
        "# Create a resource and method\n",
        "aws apigateway create-resource --rest-api-id $API_ID --parent-id $PARENT_ID --path-part myresource\n",
        "aws apigateway put-method --rest-api-id $API_ID --resource-id $RESOURCE_ID --http-method GET --authorization-type \"NONE\" --request-parameters method.request.querystring.message=true\n",
        "aws apigateway put-integration --rest-api-id $API_ID --resource-id $RESOURCE_ID --http-method GET --type AWS_PROXY --integration-http-method POST --uri arn:aws:apigateway:us-east-1:lambda:path/2015-03-31/functions/arn:aws:lambda:us-east-1:123456789012:function:my-lambda-function/invocations\n",
        "aws apigateway create-deployment --rest-api-id $API_ID --stage-name test\n",
        "\n",
        "# Invoke the API endpoint\n",
        "curl -X GET https://$API_ID.execute-api.us-east-1.amazonaws.com/test/myresource?message=Hello"
      ],
      "metadata": {
        "id": "YNsSRFZQ7yXm"
      },
      "execution_count": null,
      "outputs": []
    }
  ]
}