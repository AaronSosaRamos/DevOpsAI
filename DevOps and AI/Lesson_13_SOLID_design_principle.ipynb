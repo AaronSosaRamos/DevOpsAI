{
  "nbformat": 4,
  "nbformat_minor": 0,
  "metadata": {
    "colab": {
      "provenance": []
    },
    "kernelspec": {
      "name": "python3",
      "display_name": "Python 3"
    },
    "language_info": {
      "name": "python"
    }
  },
  "cells": [
    {
      "cell_type": "markdown",
      "source": [
        "#SOLID design principle"
      ],
      "metadata": {
        "id": "SFGR1LXWYusr"
      }
    },
    {
      "cell_type": "markdown",
      "source": [
        "#Single Responsibility Principle (SRP)"
      ],
      "metadata": {
        "id": "1vSf3vFnY_tO"
      }
    },
    {
      "cell_type": "markdown",
      "source": [
        "The Single Responsibility Principle (SRP) states that a class should have only one reason to change. Here's an example where we have separate classes for handling user data, user validation, and user registration.\n"
      ],
      "metadata": {
        "id": "HI-Slk8GZAL3"
      }
    },
    {
      "cell_type": "code",
      "execution_count": null,
      "metadata": {
        "colab": {
          "base_uri": "https://localhost:8080/"
        },
        "id": "t4uqrJ5gYifC",
        "outputId": "d5882205-36b1-4a45-be76-c464dc096040"
      },
      "outputs": [
        {
          "output_type": "stream",
          "name": "stdout",
          "text": [
            "Saving user: JohnDoe\n",
            "User JohnDoe registered successfully!\n"
          ]
        }
      ],
      "source": [
        "class User:\n",
        "    def __init__(self, username, email):\n",
        "        self.username = username\n",
        "        self.email = email\n",
        "\n",
        "class UserRepository:\n",
        "    def save(self, user):\n",
        "        print(f\"Saving user: {user.username}\")\n",
        "\n",
        "class UserValidator:\n",
        "    def is_valid(self, user):\n",
        "        if '@' in user.email:\n",
        "            return True\n",
        "        else:\n",
        "            return False\n",
        "\n",
        "class UserService:\n",
        "    def __init__(self, user_repository, user_validator):\n",
        "        self.user_repository = user_repository\n",
        "        self.user_validator = user_validator\n",
        "\n",
        "    def register_user(self, user):\n",
        "        if self.user_validator.is_valid(user):\n",
        "            self.user_repository.save(user)\n",
        "            print(f\"User {user.username} registered successfully!\")\n",
        "        else:\n",
        "            print(\"Invalid user data. Registration failed.\")\n",
        "\n",
        "# Usage\n",
        "user = User(\"JohnDoe\", \"johndoe@example.com\")\n",
        "user_repository = UserRepository()\n",
        "user_validator = UserValidator()\n",
        "user_service = UserService(user_repository, user_validator)\n",
        "user_service.register_user(user)"
      ]
    },
    {
      "cell_type": "markdown",
      "source": [
        "#Open/Closed Principle (OCP)"
      ],
      "metadata": {
        "id": "WlZ1hlEuZExv"
      }
    },
    {
      "cell_type": "markdown",
      "source": [
        "The Open/Closed Principle (OCP) states that classes should be open for extension but closed for modification. We achieve this using inheritance and polymorphism."
      ],
      "metadata": {
        "id": "wYjzYI5mZFkn"
      }
    },
    {
      "cell_type": "code",
      "source": [
        "from abc import ABC, abstractmethod\n",
        "\n",
        "class Shape(ABC):\n",
        "    @abstractmethod\n",
        "    def area(self):\n",
        "        pass\n",
        "\n",
        "class Rectangle(Shape):\n",
        "    def __init__(self, width, height):\n",
        "        self.width = width\n",
        "        self.height = height\n",
        "\n",
        "    def area(self):\n",
        "        return self.width * self.height\n",
        "\n",
        "class Circle(Shape):\n",
        "    def __init__(self, radius):\n",
        "        self.radius = radius\n",
        "\n",
        "    def area(self):\n",
        "        return 3.14 * self.radius * self.radius\n",
        "\n",
        "# Usage\n",
        "rectangle = Rectangle(5, 10)\n",
        "circle = Circle(7)\n",
        "print(\"Area of rectangle:\", rectangle.area())\n",
        "print(\"Area of circle:\", circle.area())"
      ],
      "metadata": {
        "colab": {
          "base_uri": "https://localhost:8080/"
        },
        "id": "TOvvB01IZHIX",
        "outputId": "e7580073-9351-45cd-af37-883fbe47ec68"
      },
      "execution_count": null,
      "outputs": [
        {
          "output_type": "stream",
          "name": "stdout",
          "text": [
            "Area of rectangle: 50\n",
            "Area of circle: 153.86\n"
          ]
        }
      ]
    },
    {
      "cell_type": "markdown",
      "source": [
        "#Liskov Substitution Principle (LSP)"
      ],
      "metadata": {
        "id": "93CBJAcGZKhA"
      }
    },
    {
      "cell_type": "markdown",
      "source": [
        "The Liskov Substitution Principle (LSP) states that objects of a superclass should be replaceable with objects of its subclasses without affecting the correctness of the program.\n"
      ],
      "metadata": {
        "id": "Z_RZIqxWZLRf"
      }
    },
    {
      "cell_type": "code",
      "source": [
        "class Bird:\n",
        "    def fly(self):\n",
        "        pass\n",
        "\n",
        "class Sparrow(Bird):\n",
        "    def fly(self):\n",
        "        print(\"Sparrow flying\")\n",
        "\n",
        "class Ostrich(Bird):\n",
        "    def fly(self):\n",
        "        raise NotImplementedError(\"Ostrich cannot fly\")\n",
        "\n",
        "# Usage\n",
        "sparrow = Sparrow()\n",
        "sparrow.fly()\n",
        "\n",
        "ostrich = Ostrich()\n",
        "# Calling fly on ostrich will raise NotImplementedError\n",
        "# ostrich.fly()"
      ],
      "metadata": {
        "colab": {
          "base_uri": "https://localhost:8080/"
        },
        "id": "QRKfPbErZMsf",
        "outputId": "fc72135e-727d-4b79-8e54-a19d7e4c6f0b"
      },
      "execution_count": null,
      "outputs": [
        {
          "output_type": "stream",
          "name": "stdout",
          "text": [
            "Sparrow flying\n"
          ]
        }
      ]
    },
    {
      "cell_type": "markdown",
      "source": [
        "#Interface Segregation Principle (ISP)"
      ],
      "metadata": {
        "id": "zvu7qtQOZTOY"
      }
    },
    {
      "cell_type": "markdown",
      "source": [
        "The Interface Segregation Principle (ISP) states that clients should not be forced to depend on interfaces they do not use. We can achieve this by breaking down interfaces into smaller, specific ones.\n",
        "\n"
      ],
      "metadata": {
        "id": "dmCh1DFjZVew"
      }
    },
    {
      "cell_type": "code",
      "source": [
        "class Printer:\n",
        "    def print_document(self, document):\n",
        "        pass\n",
        "\n",
        "class Scanner:\n",
        "    def scan_document(self, document):\n",
        "        pass\n",
        "\n",
        "class Photocopier(Printer, Scanner):\n",
        "    def print_document(self, document):\n",
        "        print(\"Printing document\")\n",
        "\n",
        "    def scan_document(self, document):\n",
        "        print(\"Scanning document\")\n",
        "\n",
        "# Usage\n",
        "photocopier = Photocopier()\n",
        "photocopier.print_document(\"Sample Document\")\n",
        "photocopier.scan_document(\"Sample Document\")"
      ],
      "metadata": {
        "colab": {
          "base_uri": "https://localhost:8080/"
        },
        "id": "_yV7fEPuZV24",
        "outputId": "3de4d480-5f5f-4640-98d9-951357dbc842"
      },
      "execution_count": null,
      "outputs": [
        {
          "output_type": "stream",
          "name": "stdout",
          "text": [
            "Printing document\n",
            "Scanning document\n"
          ]
        }
      ]
    },
    {
      "cell_type": "markdown",
      "source": [
        "#Dependency Inversion Principle (DIP)"
      ],
      "metadata": {
        "id": "X5LlloEYZY6g"
      }
    },
    {
      "cell_type": "markdown",
      "source": [
        "The Dependency Inversion Principle (DIP) states that high-level modules should not depend on low-level modules; both should depend on abstractions. We achieve this using dependency injection."
      ],
      "metadata": {
        "id": "ajfjU6YXZkZk"
      }
    },
    {
      "cell_type": "code",
      "source": [
        "from abc import ABC, abstractmethod\n",
        "\n",
        "# Define UserRepositoryInterface as an abstract base class\n",
        "class UserRepositoryInterface(ABC):\n",
        "    @abstractmethod\n",
        "    def save_user(self, user):\n",
        "        pass\n",
        "\n",
        "# Concrete implementation of UserRepository using MySQL\n",
        "class MySQLUserRepository(UserRepositoryInterface):\n",
        "    def save_user(self, user):\n",
        "        print(f\"Saving user {user} to MySQL database\")\n",
        "\n",
        "# Concrete implementation of UserRepository using PostgreSQL\n",
        "class PostgresUserRepository(UserRepositoryInterface):\n",
        "    def save_user(self, user):\n",
        "        print(f\"Saving user {user} to PostgreSQL database\")\n",
        "\n",
        "# UserService depends on UserRepositoryInterface\n",
        "class UserService:\n",
        "    def __init__(self, user_repository):\n",
        "        self.user_repository = user_repository\n",
        "\n",
        "    def register_user(self, username, email):\n",
        "        user = {'username': username, 'email': email}\n",
        "        self.user_repository.save_user(user)\n",
        "        print(f\"User {username} registered successfully!\")\n",
        "\n",
        "# Usage example\n",
        "mysql_user_repository = MySQLUserRepository()\n",
        "postgres_user_repository = PostgresUserRepository()\n",
        "\n",
        "# UserService is instantiated with MySQLUserRepository\n",
        "user_service_mysql = UserService(mysql_user_repository)\n",
        "user_service_mysql.register_user(\"john_doe\", \"john@example.com\")\n",
        "\n",
        "# UserService can also be instantiated with PostgresUserRepository\n",
        "user_service_postgres = UserService(postgres_user_repository)\n",
        "user_service_postgres.register_user(\"jane_smith\", \"jane@example.com\")\n"
      ],
      "metadata": {
        "colab": {
          "base_uri": "https://localhost:8080/"
        },
        "id": "nU0YqWCDZfHT",
        "outputId": "ae37bbbc-b4d2-4724-86d7-562775f85d58"
      },
      "execution_count": null,
      "outputs": [
        {
          "output_type": "stream",
          "name": "stdout",
          "text": [
            "Saving user {'username': 'john_doe', 'email': 'john@example.com'} to MySQL database\n",
            "User john_doe registered successfully!\n",
            "Saving user {'username': 'jane_smith', 'email': 'jane@example.com'} to PostgreSQL database\n",
            "User jane_smith registered successfully!\n"
          ]
        }
      ]
    }
  ]
}