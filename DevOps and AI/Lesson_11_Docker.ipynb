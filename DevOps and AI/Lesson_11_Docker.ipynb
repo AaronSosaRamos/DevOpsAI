{
  "nbformat": 4,
  "nbformat_minor": 0,
  "metadata": {
    "colab": {
      "provenance": []
    },
    "kernelspec": {
      "name": "python3",
      "display_name": "Python 3"
    },
    "language_info": {
      "name": "python"
    }
  },
  "cells": [
    {
      "cell_type": "markdown",
      "source": [
        "#Docker"
      ],
      "metadata": {
        "id": "Htq0BRhRCrLo"
      }
    },
    {
      "cell_type": "markdown",
      "source": [
        "#Django Backend Setup"
      ],
      "metadata": {
        "id": "uU-isVJWCtWH"
      }
    },
    {
      "cell_type": "code",
      "execution_count": null,
      "metadata": {
        "id": "qZHQDAdDB9xN"
      },
      "outputs": [],
      "source": [
        "django-admin startproject myproject\n",
        "cd myproject"
      ]
    },
    {
      "cell_type": "code",
      "source": [
        "# myapp/models.py\n",
        "\n",
        "from django.db import models\n",
        "\n",
        "class Book(models.Model):\n",
        "    title = models.CharField(max_length=100)\n",
        "    author = models.CharField(max_length=100)\n",
        "\n",
        "    def __str__(self):\n",
        "        return self.title"
      ],
      "metadata": {
        "id": "oyPxnVTrCv4Q"
      },
      "execution_count": null,
      "outputs": []
    },
    {
      "cell_type": "code",
      "source": [
        "# myapp/views.py\n",
        "\n",
        "from django.shortcuts import render, get_object_or_404, redirect\n",
        "from .models import Book\n",
        "from .forms import BookForm\n",
        "\n",
        "def book_list(request):\n",
        "    books = Book.objects.all()\n",
        "    return render(request, 'book_list.html', {'books': books})\n",
        "\n",
        "def book_detail(request, pk):\n",
        "    book = get_object_or_404(Book, pk=pk)\n",
        "    return render(request, 'book_detail.html', {'book': book})\n",
        "\n",
        "def book_create(request):\n",
        "    if request.method == 'POST':\n",
        "        form = BookForm(request.POST)\n",
        "        if form.is_valid():\n",
        "            form.save()\n",
        "            return redirect('book_list')\n",
        "    else:\n",
        "        form = BookForm()\n",
        "    return render(request, 'book_form.html', {'form': form})\n",
        "\n",
        "def book_update(request, pk):\n",
        "    book = get_object_or_404(Book, pk=pk)\n",
        "    if request.method == 'POST':\n",
        "        form = BookForm(request.POST, instance=book)\n",
        "        if form.is_valid():\n",
        "            form.save()\n",
        "            return redirect('book_list')\n",
        "    else:\n",
        "        form = BookForm(instance=book)\n",
        "    return render(request, 'book_form.html', {'form': form})\n",
        "\n",
        "def book_delete(request, pk):\n",
        "    book = get_object_or_404(Book, pk=pk)\n",
        "    if request.method == 'POST':\n",
        "        book.delete()\n",
        "        return redirect('book_list')\n",
        "    return render(request, 'book_confirm_delete.html', {'book': book})"
      ],
      "metadata": {
        "id": "5wuxqi1EDo_H"
      },
      "execution_count": null,
      "outputs": []
    },
    {
      "cell_type": "code",
      "source": [
        "# myapp/forms.py\n",
        "\n",
        "from django import forms\n",
        "from .models import Book\n",
        "\n",
        "class BookForm(forms.ModelForm):\n",
        "    class Meta:\n",
        "        model = Book\n",
        "        fields = ['title', 'author']"
      ],
      "metadata": {
        "id": "vOj8hxTfDvkf"
      },
      "execution_count": null,
      "outputs": []
    },
    {
      "cell_type": "code",
      "source": [
        "# myproject/urls.py\n",
        "\n",
        "from django.urls import path\n",
        "from myapp import views\n",
        "\n",
        "urlpatterns = [\n",
        "    path('', views.book_list, name='book_list'),\n",
        "    path('book/<int:pk>/', views.book_detail, name='book_detail'),\n",
        "    path('book/new/', views.book_create, name='book_create'),\n",
        "    path('book/<int:pk>/edit/', views.book_update, name='book_update'),\n",
        "    path('book/<int:pk>/delete/', views.book_delete, name='book_delete'),\n",
        "]"
      ],
      "metadata": {
        "id": "MR7mZ18iDyS_"
      },
      "execution_count": null,
      "outputs": []
    },
    {
      "cell_type": "markdown",
      "source": [
        "#React Frontend Setup"
      ],
      "metadata": {
        "id": "UU4DJo1DD4Gv"
      }
    },
    {
      "cell_type": "code",
      "source": [
        "npx create-react-app frontend\n",
        "cd frontend"
      ],
      "metadata": {
        "id": "tMBBEskyD5On"
      },
      "execution_count": null,
      "outputs": []
    },
    {
      "cell_type": "code",
      "source": [
        "# Using npm\n",
        "npm install @mui/material @emotion/react @emotion/styled\n",
        "\n",
        "# Using yarn\n",
        "yarn add @mui/material @emotion/react @emotion/styled"
      ],
      "metadata": {
        "id": "tsYo1hdPEJCG"
      },
      "execution_count": null,
      "outputs": []
    },
    {
      "cell_type": "code",
      "source": [
        "// src/components/BookList.js\n",
        "\n",
        "import React, { useEffect, useState } from 'react';\n",
        "import { List, ListItem, ListItemText, Button, Typography } from '@mui/material';\n",
        "\n",
        "const BookList = ({ books }) => {\n",
        "  return (\n",
        "    <div>\n",
        "      <Typography variant=\"h4\" gutterBottom>\n",
        "        Book List\n",
        "      </Typography>\n",
        "      <List>\n",
        "        {books.map((book) => (\n",
        "          <ListItem key={book.id}>\n",
        "            <ListItemText primary={book.title} secondary={book.author} />\n",
        "          </ListItem>\n",
        "        ))}\n",
        "      </List>\n",
        "    </div>\n",
        "  );\n",
        "};\n",
        "\n",
        "export default BookList;"
      ],
      "metadata": {
        "id": "mVqhhp6vETVP"
      },
      "execution_count": null,
      "outputs": []
    },
    {
      "cell_type": "code",
      "source": [
        "// src/components/BookForm.js\n",
        "\n",
        "import React, { useState } from 'react';\n",
        "import { TextField, Button, Typography, Grid } from '@mui/material';\n",
        "\n",
        "const BookForm = ({ onSubmit }) => {\n",
        "  const [title, setTitle] = useState('');\n",
        "  const [author, setAuthor] = useState('');\n",
        "\n",
        "  const handleSubmit = (e) => {\n",
        "    e.preventDefault();\n",
        "    onSubmit({ title, author });\n",
        "    setTitle('');\n",
        "    setAuthor('');\n",
        "  };\n",
        "\n",
        "  return (\n",
        "    <div>\n",
        "      <Typography variant=\"h4\" gutterBottom>\n",
        "        Add New Book\n",
        "      </Typography>\n",
        "      <form onSubmit={handleSubmit}>\n",
        "        <Grid container spacing={2}>\n",
        "          <Grid item xs={12}>\n",
        "            <TextField\n",
        "              required\n",
        "              fullWidth\n",
        "              label=\"Title\"\n",
        "              value={title}\n",
        "              onChange={(e) => setTitle(e.target.value)}\n",
        "            />\n",
        "          </Grid>\n",
        "          <Grid item xs={12}>\n",
        "            <TextField\n",
        "              required\n",
        "              fullWidth\n",
        "              label=\"Author\"\n",
        "              value={author}\n",
        "              onChange={(e) => setAuthor(e.target.value)}\n",
        "            />\n",
        "          </Grid>\n",
        "          <Grid item xs={12}>\n",
        "            <Button type=\"submit\" variant=\"contained\" color=\"primary\">\n",
        "              Add Book\n",
        "            </Button>\n",
        "          </Grid>\n",
        "        </Grid>\n",
        "      </form>\n",
        "    </div>\n",
        "  );\n",
        "};\n",
        "\n",
        "export default BookForm;\n"
      ],
      "metadata": {
        "id": "OX9Z2cr1EU4_"
      },
      "execution_count": null,
      "outputs": []
    },
    {
      "cell_type": "code",
      "source": [
        "// src/App.js\n",
        "\n",
        "import React, { useEffect, useState } from 'react';\n",
        "import { Container, CssBaseline, Typography } from '@mui/material';\n",
        "import BookList from './components/BookList';\n",
        "import BookForm from './components/BookForm';\n",
        "\n",
        "const App = () => {\n",
        "  const [books, setBooks] = useState([]);\n",
        "\n",
        "  useEffect(() => {\n",
        "    // Fetch books from Django backend API\n",
        "    fetch('http://localhost:8000/api/books/')\n",
        "      .then((response) => response.json())\n",
        "      .then((data) => setBooks(data))\n",
        "      .catch((error) => console.error('Error fetching books:', error));\n",
        "  }, []);\n",
        "\n",
        "  const handleAddBook = (newBook) => {\n",
        "    fetch('http://localhost:8000/api/books/', {\n",
        "      method: 'POST',\n",
        "      headers: { 'Content-Type': 'application/json' },\n",
        "      body: JSON.stringify(newBook),\n",
        "    })\n",
        "      .then((response) => response.json())\n",
        "      .then((data) => {\n",
        "        setBooks([...books, data]);\n",
        "      })\n",
        "      .catch((error) => console.error('Error adding book:', error));\n",
        "  };\n",
        "\n",
        "  return (\n",
        "    <Container maxWidth=\"sm\">\n",
        "      <CssBaseline />\n",
        "      <Typography variant=\"h3\" align=\"center\" gutterBottom>\n",
        "        Book Management App\n",
        "      </Typography>\n",
        "      <BookForm onSubmit={handleAddBook} />\n",
        "      <BookList books={books} />\n",
        "    </Container>\n",
        "  );\n",
        "};\n",
        "\n",
        "export default App;"
      ],
      "metadata": {
        "id": "RPBJGeXTEWiv"
      },
      "execution_count": null,
      "outputs": []
    },
    {
      "cell_type": "markdown",
      "source": [
        "#ArangoDB Configuration"
      ],
      "metadata": {
        "id": "H70WQgzOEa7C"
      }
    },
    {
      "cell_type": "code",
      "source": [
        "# Dockerfile for ArangoDB\n",
        "\n",
        "FROM arangodb/arangodb:latest"
      ],
      "metadata": {
        "id": "gjNFxGEpEcqn"
      },
      "execution_count": null,
      "outputs": []
    },
    {
      "cell_type": "code",
      "source": [
        "# docker-compose.yml\n",
        "\n",
        "version: '3'\n",
        "\n",
        "services:\n",
        "  django:\n",
        "    build: ./myproject\n",
        "    command: python manage.py runserver 0.0.0.0:8000\n",
        "    volumes:\n",
        "      - ./myproject:/app\n",
        "    ports:\n",
        "      - \"8000:8000\"\n",
        "    depends_on:\n",
        "      - arangodb\n",
        "\n",
        "  frontend:\n",
        "    build: ./frontend\n",
        "    ports:\n",
        "      - \"3000:3000\"\n",
        "    volumes:\n",
        "      - ./frontend:/app\n",
        "\n",
        "  arangodb:\n",
        "    build: ./arangodb\n",
        "    environment:\n",
        "      ARANGO_NO_AUTH: \"1\"\n",
        "    ports:\n",
        "      - \"8529:8529\"\n",
        "    volumes:\n",
        "      - arangodb_data:/var/lib/arangodb3\n",
        "\n",
        "volumes:\n",
        "  arangodb_data:"
      ],
      "metadata": {
        "id": "e_Wt3XDZEf5H"
      },
      "execution_count": null,
      "outputs": []
    },
    {
      "cell_type": "code",
      "source": [
        "docker-compose up -d"
      ],
      "metadata": {
        "id": "WEIxO3cbEj7H"
      },
      "execution_count": null,
      "outputs": []
    },
    {
      "cell_type": "code",
      "source": [
        "docker-compose ps"
      ],
      "metadata": {
        "id": "PxZvYdj0Er7A"
      },
      "execution_count": null,
      "outputs": []
    },
    {
      "cell_type": "code",
      "source": [
        "docker-compose down"
      ],
      "metadata": {
        "id": "mhm-wqXdEtTt"
      },
      "execution_count": null,
      "outputs": []
    }
  ]
}