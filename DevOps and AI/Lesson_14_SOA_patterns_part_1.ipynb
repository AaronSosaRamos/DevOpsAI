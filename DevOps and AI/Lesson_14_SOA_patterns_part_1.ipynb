{
  "nbformat": 4,
  "nbformat_minor": 0,
  "metadata": {
    "colab": {
      "provenance": []
    },
    "kernelspec": {
      "name": "python3",
      "display_name": "Python 3"
    },
    "language_info": {
      "name": "python"
    }
  },
  "cells": [
    {
      "cell_type": "markdown",
      "source": [
        "#Layer Architecture Pattern"
      ],
      "metadata": {
        "id": "T4hmAl-b4eXl"
      }
    },
    {
      "cell_type": "markdown",
      "source": [
        "Data Access Layer"
      ],
      "metadata": {
        "id": "qyj1ggQo45J3"
      }
    },
    {
      "cell_type": "code",
      "source": [
        "import sqlite3\n",
        "\n",
        "class DataAccessLayer:\n",
        "    def __init__(self):\n",
        "        self.connection = sqlite3.connect(':memory:')  # Create an in-memory SQLite database\n",
        "        self.create_tables()\n",
        "\n",
        "    def create_tables(self):\n",
        "        # Create a Products table\n",
        "        self.connection.execute('''\n",
        "            CREATE TABLE IF NOT EXISTS Products (\n",
        "                id INTEGER PRIMARY KEY,\n",
        "                name TEXT NOT NULL,\n",
        "                price REAL\n",
        "            )\n",
        "        ''')\n",
        "\n",
        "    def add_product(self, product):\n",
        "        # Insert a new product into the Products table\n",
        "        cursor = self.connection.cursor()\n",
        "        cursor.execute('''\n",
        "            INSERT INTO Products (name, price) VALUES (?, ?)\n",
        "        ''', (product['name'], product['price']))\n",
        "        self.connection.commit()\n",
        "        return cursor.lastrowid\n",
        "\n",
        "    def get_product(self, product_id):\n",
        "        # Retrieve a product by its ID\n",
        "        cursor = self.connection.cursor()\n",
        "        cursor.execute('''\n",
        "            SELECT id, name, price FROM Products WHERE id = ?\n",
        "        ''', (product_id,))\n",
        "        return cursor.fetchone()\n",
        "\n",
        "    def update_product(self, product_id, updated_product):\n",
        "        # Update an existing product\n",
        "        cursor = self.connection.cursor()\n",
        "        cursor.execute('''\n",
        "            UPDATE Products SET name = ?, price = ? WHERE id = ?\n",
        "        ''', (updated_product['name'], updated_product['price'], product_id))\n",
        "        self.connection.commit()\n",
        "\n",
        "    def delete_product(self, product_id):\n",
        "        # Delete a product by its ID\n",
        "        cursor = self.connection.cursor()\n",
        "        cursor.execute('''\n",
        "            DELETE FROM Products WHERE id = ?\n",
        "        ''', (product_id,))\n",
        "        self.connection.commit()\n",
        "\n",
        "    def get_all_products(self):\n",
        "        # Retrieve all products\n",
        "        cursor = self.connection.cursor()\n",
        "        cursor.execute('''\n",
        "            SELECT id, name, price FROM Products\n",
        "        ''')\n",
        "        return cursor.fetchall()"
      ],
      "metadata": {
        "id": "AcAcbkGF4ePn"
      },
      "execution_count": null,
      "outputs": []
    },
    {
      "cell_type": "markdown",
      "source": [
        "Business Logic Layer"
      ],
      "metadata": {
        "id": "XTIaWNQy47u_"
      }
    },
    {
      "cell_type": "code",
      "execution_count": null,
      "metadata": {
        "id": "cV_zb-2g4aQB"
      },
      "outputs": [],
      "source": [
        "class BusinessLogicLayer:\n",
        "    def __init__(self):\n",
        "        self.data_access = DataAccessLayer()\n",
        "\n",
        "    def process_data(self):\n",
        "        print(\"=== Business Logic Layer ===\")\n",
        "        # Add a new product\n",
        "        new_product_id = self.data_access.add_product({'name': 'Laptop', 'price': 1200.0})\n",
        "        print(f\"New product added with ID: {new_product_id}\")\n",
        "\n",
        "        # Retrieve a product\n",
        "        product = self.data_access.get_product(new_product_id)\n",
        "        print(f\"Retrieved product: {product}\")\n",
        "\n",
        "        # Update the product\n",
        "        updated_product = {'name': 'Laptop Pro', 'price': 1500.0}\n",
        "        self.data_access.update_product(new_product_id, updated_product)\n",
        "        print(\"Product updated successfully\")\n",
        "\n",
        "        # Retrieve all products\n",
        "        all_products = self.data_access.get_all_products()\n",
        "        print(\"All products:\")\n",
        "        for product in all_products:\n",
        "            print(product)\n",
        "\n",
        "        # Delete the product\n",
        "        self.data_access.delete_product(new_product_id)\n",
        "        print(\"Product deleted successfully\")"
      ]
    },
    {
      "cell_type": "markdown",
      "source": [
        "Presentation Layer"
      ],
      "metadata": {
        "id": "MS-cLgir54TM"
      }
    },
    {
      "cell_type": "code",
      "source": [
        "class PresentationLayer:\n",
        "    def __init__(self):\n",
        "        self.business_logic = BusinessLogicLayer()\n",
        "\n",
        "    def run(self):\n",
        "        print(\"=== Presentation Layer ===\")\n",
        "        choice = input(\"Enter command (e.g., 'process_data'): \")\n",
        "        if choice == 'process_data':\n",
        "            self.business_logic.process_data()\n",
        "        else:\n",
        "            print(\"Invalid command\")"
      ],
      "metadata": {
        "id": "wGdjXPSw521B"
      },
      "execution_count": null,
      "outputs": []
    },
    {
      "cell_type": "code",
      "source": [
        "# main.py\n",
        "def main():\n",
        "    presentation_layer = PresentationLayer()\n",
        "    presentation_layer.run()\n",
        "\n",
        "if __name__ == \"__main__\":\n",
        "    main()"
      ],
      "metadata": {
        "colab": {
          "base_uri": "https://localhost:8080/"
        },
        "id": "OQBzu_yn6GZM",
        "outputId": "70fc7b03-f96e-4764-a05f-1edd25c664e5"
      },
      "execution_count": null,
      "outputs": [
        {
          "output_type": "stream",
          "name": "stdout",
          "text": [
            "=== Presentation Layer ===\n",
            "Enter command (e.g., 'process_data'): process_data\n",
            "=== Business Logic Layer ===\n",
            "New product added with ID: 1\n",
            "Retrieved product: (1, 'Laptop', 1200.0)\n",
            "Product updated successfully\n",
            "All products:\n",
            "(1, 'Laptop Pro', 1500.0)\n",
            "Product deleted successfully\n"
          ]
        }
      ]
    },
    {
      "cell_type": "markdown",
      "source": [
        "#Broker Pattern (Mediator Pattern)"
      ],
      "metadata": {
        "id": "RxNbFyDe6V94"
      }
    },
    {
      "cell_type": "markdown",
      "source": [
        "Mediator (Broker) Implementation"
      ],
      "metadata": {
        "id": "XyoTRG8P67p0"
      }
    },
    {
      "cell_type": "code",
      "source": [
        "class ChatRoom:\n",
        "    def __init__(self):\n",
        "        self.users = []\n",
        "\n",
        "    def register_user(self, user):\n",
        "        self.users.append(user)\n",
        "\n",
        "    def send_message(self, sender, message):\n",
        "        for user in self.users:\n",
        "            if user != sender:  # Do not send message back to the sender\n",
        "                user.receive_message(sender, message)\n",
        "\n",
        "    def broadcast_message(self, message):\n",
        "        for user in self.users:\n",
        "            user.receive_message(\"Broadcast\", message)"
      ],
      "metadata": {
        "id": "V84kfvtq6jt1"
      },
      "execution_count": null,
      "outputs": []
    },
    {
      "cell_type": "markdown",
      "source": [
        "Colleague (User) Implementation"
      ],
      "metadata": {
        "id": "Y1UAk-tI69Hk"
      }
    },
    {
      "cell_type": "code",
      "source": [
        "class User:\n",
        "    def __init__(self, name, chat_room):\n",
        "        self.name = name\n",
        "        self.chat_room = chat_room\n",
        "        self.chat_room.register_user(self)\n",
        "\n",
        "    def send_message(self, message):\n",
        "        self.chat_room.send_message(self, message)\n",
        "\n",
        "    def broadcast_message(self, message):\n",
        "        self.chat_room.broadcast_message(message)\n",
        "\n",
        "    def receive_message(self, sender, message):\n",
        "        print(f\"{self.name} received message from {sender}: {message}\")"
      ],
      "metadata": {
        "id": "CdRSIyFK6mw3"
      },
      "execution_count": null,
      "outputs": []
    },
    {
      "cell_type": "code",
      "source": [
        "# Usage example\n",
        "if __name__ == \"__main__\":\n",
        "    # Create a chat room (mediator)\n",
        "    chat_room = ChatRoom()\n",
        "\n",
        "    # Create users (colleagues) and register them to the chat room (mediator)\n",
        "    alice = User(\"Alice\", chat_room)\n",
        "    bob = User(\"Bob\", chat_room)\n",
        "    charlie = User(\"Charlie\", chat_room)\n",
        "\n",
        "    # User sends a message\n",
        "    alice.send_message(\"Hello Bob!\")  # Bob receives the message\n",
        "\n",
        "    # User broadcasts a message\n",
        "    charlie.broadcast_message(\"Hey everyone!\")  # All users receive the broadcast message"
      ],
      "metadata": {
        "colab": {
          "base_uri": "https://localhost:8080/"
        },
        "id": "KyRerx-D6oHb",
        "outputId": "84e9f5a3-d66a-48d2-ec7f-69e3aecafa0b"
      },
      "execution_count": null,
      "outputs": [
        {
          "output_type": "stream",
          "name": "stdout",
          "text": [
            "Bob received message from <__main__.User object at 0x7ff5aaa00f40>: Hello Bob!\n",
            "Charlie received message from <__main__.User object at 0x7ff5aaa00f40>: Hello Bob!\n",
            "Alice received message from Broadcast: Hey everyone!\n",
            "Bob received message from Broadcast: Hey everyone!\n",
            "Charlie received message from Broadcast: Hey everyone!\n"
          ]
        }
      ]
    },
    {
      "cell_type": "markdown",
      "source": [
        "#Proxy Pattern"
      ],
      "metadata": {
        "id": "dXgC4xaw61wl"
      }
    },
    {
      "cell_type": "markdown",
      "source": [
        "Subject Interface (WeatherService)"
      ],
      "metadata": {
        "id": "P7iy60MA6_ck"
      }
    },
    {
      "cell_type": "code",
      "source": [
        "from abc import ABC, abstractmethod\n",
        "\n",
        "class WeatherService(ABC):\n",
        "    @abstractmethod\n",
        "    def get_weather(self, city: str) -> str:\n",
        "        pass"
      ],
      "metadata": {
        "id": "xkYWDwal622j"
      },
      "execution_count": null,
      "outputs": []
    },
    {
      "cell_type": "markdown",
      "source": [
        " Real Subject (WeatherProvider)"
      ],
      "metadata": {
        "id": "w8uR6I5J7Av8"
      }
    },
    {
      "cell_type": "code",
      "source": [
        "class WeatherProvider(WeatherService):\n",
        "    def get_weather(self, city: str) -> str:\n",
        "        # Simulate fetching weather data from a remote API\n",
        "        print(f\"Fetching weather data for {city} from remote API...\")\n",
        "        # In a real implementation, this would make an actual API call\n",
        "        return f\"Weather in {city}: 25°C, Sunny\"  # Simulated weather data"
      ],
      "metadata": {
        "id": "5IX94MZB7BAe"
      },
      "execution_count": null,
      "outputs": []
    },
    {
      "cell_type": "markdown",
      "source": [
        "Proxy (WeatherProxy)"
      ],
      "metadata": {
        "id": "62PPhhDE7DaF"
      }
    },
    {
      "cell_type": "code",
      "source": [
        "class WeatherProxy(WeatherService):\n",
        "    def __init__(self, api_key: str):\n",
        "        self.api_key = api_key\n",
        "        self.weather_provider = WeatherProvider()\n",
        "        self.cache = {}\n",
        "\n",
        "    def authenticate(self):\n",
        "        # Simulate authentication with API key\n",
        "        print(\"Authenticating with API key...\")\n",
        "        # In a real implementation, this would perform actual authentication\n",
        "\n",
        "    def get_weather(self, city: str) -> str:\n",
        "        if city not in self.cache:\n",
        "            self.authenticate()\n",
        "            weather_data = self.weather_provider.get_weather(city)\n",
        "            self.cache[city] = weather_data\n",
        "        else:\n",
        "            print(f\"Fetching weather data for {city} from cache...\")\n",
        "            weather_data = self.cache[city]\n",
        "\n",
        "        return weather_data"
      ],
      "metadata": {
        "id": "MzIqc85g7Dvl"
      },
      "execution_count": null,
      "outputs": []
    },
    {
      "cell_type": "code",
      "source": [
        "if __name__ == \"__main__\":\n",
        "    api_key = \"your_api_key\"\n",
        "    weather_proxy = WeatherProxy(api_key)\n",
        "\n",
        "    # Fetch weather data for cities (simulating multiple requests)\n",
        "    print(weather_proxy.get_weather(\"New York\"))\n",
        "    print(weather_proxy.get_weather(\"London\"))\n",
        "    print(weather_proxy.get_weather(\"New York\"))  # Fetch from cache\n",
        "    print(weather_proxy.get_weather(\"Paris\"))\n",
        "    print(weather_proxy.get_weather(\"Paris\"))  # Fetch from cache"
      ],
      "metadata": {
        "colab": {
          "base_uri": "https://localhost:8080/"
        },
        "id": "cqdIUPrj7PEb",
        "outputId": "430dbae8-f3ce-413a-9cf8-2917fd27fc5c"
      },
      "execution_count": null,
      "outputs": [
        {
          "output_type": "stream",
          "name": "stdout",
          "text": [
            "Authenticating with API key...\n",
            "Fetching weather data for New York from remote API...\n",
            "Weather in New York: 25°C, Sunny\n",
            "Authenticating with API key...\n",
            "Fetching weather data for London from remote API...\n",
            "Weather in London: 25°C, Sunny\n",
            "Fetching weather data for New York from cache...\n",
            "Weather in New York: 25°C, Sunny\n",
            "Authenticating with API key...\n",
            "Fetching weather data for Paris from remote API...\n",
            "Weather in Paris: 25°C, Sunny\n",
            "Fetching weather data for Paris from cache...\n",
            "Weather in Paris: 25°C, Sunny\n"
          ]
        }
      ]
    },
    {
      "cell_type": "markdown",
      "source": [
        "#Facade Pattern"
      ],
      "metadata": {
        "id": "ogclOPsm7UFu"
      }
    },
    {
      "cell_type": "code",
      "source": [
        "class AudioPlayer:\n",
        "    def play_audio(self, audio_file):\n",
        "        print(f\"Playing audio: {audio_file}\")\n",
        "\n",
        "    def stop_audio(self):\n",
        "        print(\"Stopping audio\")"
      ],
      "metadata": {
        "id": "3ykpL0zY7Vev"
      },
      "execution_count": null,
      "outputs": []
    },
    {
      "cell_type": "code",
      "source": [
        "class VideoPlayer:\n",
        "    def play_video(self, video_file):\n",
        "        print(f\"Playing video: {video_file}\")\n",
        "\n",
        "    def stop_video(self):\n",
        "        print(\"Stopping video\")"
      ],
      "metadata": {
        "id": "kjWaRUBU7YlA"
      },
      "execution_count": null,
      "outputs": []
    },
    {
      "cell_type": "code",
      "source": [
        "class SubtitleManager:\n",
        "    def load_subtitle(self, subtitle_file):\n",
        "        print(f\"Loading subtitle: {subtitle_file}\")\n",
        "\n",
        "    def display_subtitle(self):\n",
        "        print(\"Displaying subtitle\")\n",
        "\n",
        "    def hide_subtitle(self):\n",
        "        print(\"Hiding subtitle\")"
      ],
      "metadata": {
        "id": "Ilfe9Oz87ZtX"
      },
      "execution_count": null,
      "outputs": []
    },
    {
      "cell_type": "code",
      "source": [
        "class MultimediaPlayerFacade:\n",
        "    def __init__(self):\n",
        "        self.audio_player = AudioPlayer()\n",
        "        self.video_player = VideoPlayer()\n",
        "        self.subtitle_manager = SubtitleManager()\n",
        "\n",
        "    def play_movie(self, video_file, audio_file, subtitle_file=None):\n",
        "        self.video_player.play_video(video_file)\n",
        "        self.audio_player.play_audio(audio_file)\n",
        "        if subtitle_file:\n",
        "            self.subtitle_manager.load_subtitle(subtitle_file)\n",
        "            self.subtitle_manager.display_subtitle()\n",
        "\n",
        "    def stop_movie(self):\n",
        "        self.video_player.stop_video()\n",
        "        self.audio_player.stop_audio()\n",
        "        self.subtitle_manager.hide_subtitle()"
      ],
      "metadata": {
        "id": "6F_VTxqh7c4A"
      },
      "execution_count": null,
      "outputs": []
    },
    {
      "cell_type": "code",
      "source": [
        "if __name__ == \"__main__\":\n",
        "    # Create multimedia player facade\n",
        "    player = MultimediaPlayerFacade()\n",
        "\n",
        "    # Play a movie\n",
        "    print(\"Playing movie:\")\n",
        "    player.play_movie(\"movie.mp4\", \"audio.mp3\", \"subtitle.srt\")\n",
        "\n",
        "    # Simulate user interaction (e.g., pressing stop button)\n",
        "    input(\"Press Enter to stop the movie...\")\n",
        "\n",
        "    # Stop the movie\n",
        "    print(\"\\nStopping movie...\")\n",
        "    player.stop_movie()"
      ],
      "metadata": {
        "colab": {
          "base_uri": "https://localhost:8080/"
        },
        "id": "Al5gmonR7eXZ",
        "outputId": "8b0c7e11-6893-4148-a64b-beb896579f92"
      },
      "execution_count": null,
      "outputs": [
        {
          "output_type": "stream",
          "name": "stdout",
          "text": [
            "Playing movie:\n",
            "Playing video: movie.mp4\n",
            "Playing audio: audio.mp3\n",
            "Loading subtitle: subtitle.srt\n",
            "Displaying subtitle\n",
            "Press Enter to stop the movie...\n",
            "\n",
            "Stopping movie...\n",
            "Stopping video\n",
            "Stopping audio\n",
            "Hiding subtitle\n"
          ]
        }
      ]
    },
    {
      "cell_type": "markdown",
      "source": [
        "#Unit of Work Pattern"
      ],
      "metadata": {
        "id": "v4JDV5Je70D9"
      }
    },
    {
      "cell_type": "code",
      "source": [
        "class BankAccount:\n",
        "    def __init__(self, account_id, balance):\n",
        "        self.account_id = account_id\n",
        "        self.balance = balance\n",
        "\n",
        "    def deposit(self, amount):\n",
        "        self.balance += amount\n",
        "\n",
        "    def withdraw(self, amount):\n",
        "        if self.balance >= amount:\n",
        "            self.balance -= amount\n",
        "        else:\n",
        "            raise ValueError(\"Insufficient balance\")\n",
        "\n",
        "    def __str__(self):\n",
        "        return f\"Account ID: {self.account_id}, Balance: ${self.balance}\""
      ],
      "metadata": {
        "id": "AIreRYj671UM"
      },
      "execution_count": null,
      "outputs": []
    },
    {
      "cell_type": "code",
      "source": [
        "class UnitOfWork:\n",
        "    def __init__(self):\n",
        "        self.new_objects = []\n",
        "        self.dirty_objects = []\n",
        "        self.removed_objects = []\n",
        "\n",
        "    def register_new(self, obj):\n",
        "        if obj not in self.new_objects:\n",
        "            self.new_objects.append(obj)\n",
        "\n",
        "    def register_dirty(self, obj):\n",
        "        if obj not in self.dirty_objects and obj not in self.new_objects:\n",
        "            self.dirty_objects.append(obj)\n",
        "\n",
        "    def register_removed(self, obj):\n",
        "        if obj not in self.removed_objects:\n",
        "            self.removed_objects.append(obj)\n",
        "\n",
        "    def commit(self):\n",
        "        # Simulate committing changes to a database\n",
        "        for obj in self.new_objects:\n",
        "            print(f\"Inserting new object: {obj}\")\n",
        "            # Perform actual database insert operation here\n",
        "\n",
        "        for obj in self.dirty_objects:\n",
        "            print(f\"Updating object: {obj}\")\n",
        "            # Perform actual database update operation here\n",
        "\n",
        "        for obj in self.removed_objects:\n",
        "            print(f\"Removing object: {obj}\")\n",
        "            # Perform actual database delete operation here\n",
        "\n",
        "        # Clear the lists after commit\n",
        "        self.new_objects.clear()\n",
        "        self.dirty_objects.clear()\n",
        "        self.removed_objects.clear()"
      ],
      "metadata": {
        "id": "cQA6Fe9D72rj"
      },
      "execution_count": null,
      "outputs": []
    },
    {
      "cell_type": "code",
      "source": [
        "if __name__ == \"__main__\":\n",
        "    # Create a unit of work instance\n",
        "    unit_of_work = UnitOfWork()\n",
        "\n",
        "    # Create new bank accounts\n",
        "    account1 = BankAccount(account_id=1, balance=1000)\n",
        "    account2 = BankAccount(account_id=2, balance=2000)\n",
        "\n",
        "    # Register new bank accounts with the unit of work\n",
        "    unit_of_work.register_new(account1)\n",
        "    unit_of_work.register_new(account2)\n",
        "\n",
        "    # Perform transactions\n",
        "    try:\n",
        "        account1.withdraw(500)\n",
        "        account2.deposit(500)\n",
        "        unit_of_work.register_dirty(account1)\n",
        "        unit_of_work.register_dirty(account2)\n",
        "    except ValueError as e:\n",
        "        print(f\"Transaction failed: {e}\")\n",
        "\n",
        "    # Commit changes\n",
        "    unit_of_work.commit()\n",
        "\n",
        "    # Display updated bank accounts\n",
        "    print(\"Updated Bank Accounts:\")\n",
        "    print(account1)\n",
        "    print(account2)"
      ],
      "metadata": {
        "colab": {
          "base_uri": "https://localhost:8080/"
        },
        "id": "O1h3oBwV73_D",
        "outputId": "2bf29e2f-1ce5-4ac7-a6e5-247cc82cdc7f"
      },
      "execution_count": null,
      "outputs": [
        {
          "output_type": "stream",
          "name": "stdout",
          "text": [
            "Inserting new object: Account ID: 1, Balance: $500\n",
            "Inserting new object: Account ID: 2, Balance: $2500\n",
            "Updated Bank Accounts:\n",
            "Account ID: 1, Balance: $500\n",
            "Account ID: 2, Balance: $2500\n"
          ]
        }
      ]
    },
    {
      "cell_type": "markdown",
      "source": [
        "#Observer Pattern"
      ],
      "metadata": {
        "id": "lvLBjHM1769U"
      }
    },
    {
      "cell_type": "markdown",
      "source": [
        "Subject"
      ],
      "metadata": {
        "id": "cOCntdFp7_Ek"
      }
    },
    {
      "cell_type": "code",
      "source": [
        "class NewsPublisher:\n",
        "    def __init__(self):\n",
        "        self._subscribers = []  # List to hold subscriber objects\n",
        "\n",
        "    def register(self, subscriber):\n",
        "        self._subscribers.append(subscriber)\n",
        "\n",
        "    def unregister(self, subscriber):\n",
        "        self._subscribers.remove(subscriber)\n",
        "\n",
        "    def notify_subscribers(self, article):\n",
        "        for subscriber in self._subscribers:\n",
        "            subscriber.update(article)"
      ],
      "metadata": {
        "id": "OrZmGWb978ME"
      },
      "execution_count": null,
      "outputs": []
    },
    {
      "cell_type": "markdown",
      "source": [
        "Observer"
      ],
      "metadata": {
        "id": "HYvXizNQ8M31"
      }
    },
    {
      "cell_type": "code",
      "source": [
        "class Subscriber:\n",
        "    def __init__(self, name):\n",
        "        self.name = name\n",
        "\n",
        "    def update(self, article):\n",
        "        print(f\"{self.name} received the latest news: {article}\")"
      ],
      "metadata": {
        "id": "OfxS1vjO8JDM"
      },
      "execution_count": null,
      "outputs": []
    },
    {
      "cell_type": "code",
      "source": [
        "if __name__ == \"__main__\":\n",
        "    # Create a news publisher\n",
        "    news_publisher = NewsPublisher()\n",
        "\n",
        "    # Create subscribers\n",
        "    subscriber1 = Subscriber(\"John\")\n",
        "    subscriber2 = Subscriber(\"Alice\")\n",
        "\n",
        "    # Register subscribers with the news publisher\n",
        "    news_publisher.register(subscriber1)\n",
        "    news_publisher.register(subscriber2)\n",
        "\n",
        "    # Publish a new article\n",
        "    article = \"Breaking News: Python becomes the most popular programming language!\"\n",
        "    news_publisher.notify_subscribers(article)\n",
        "\n",
        "    # Unregister a subscriber\n",
        "    news_publisher.unregister(subscriber2)\n",
        "\n",
        "    # Publish another article\n",
        "    article2 = \"New advancements in AI technology unveiled!\"\n",
        "    news_publisher.notify_subscribers(article2)"
      ],
      "metadata": {
        "colab": {
          "base_uri": "https://localhost:8080/"
        },
        "id": "94ZA3zfL8KI0",
        "outputId": "626cc334-6eea-4a35-c921-a049bbf1d2bf"
      },
      "execution_count": null,
      "outputs": [
        {
          "output_type": "stream",
          "name": "stdout",
          "text": [
            "John received the latest news: Breaking News: Python becomes the most popular programming language!\n",
            "Alice received the latest news: Breaking News: Python becomes the most popular programming language!\n",
            "John received the latest news: New advancements in AI technology unveiled!\n"
          ]
        }
      ]
    },
    {
      "cell_type": "markdown",
      "source": [
        "#ETL"
      ],
      "metadata": {
        "id": "XVwW13Mq8ykx"
      }
    },
    {
      "cell_type": "markdown",
      "source": [
        "Extract"
      ],
      "metadata": {
        "id": "qhyOYLBy81nK"
      }
    },
    {
      "cell_type": "code",
      "source": [
        "import csv\n",
        "\n",
        "def extract_data_from_csv(csv_file):\n",
        "    data = []\n",
        "    with open(csv_file, 'r', newline='') as file:\n",
        "        reader = csv.DictReader(file)\n",
        "        for row in reader:\n",
        "            data.append(row)\n",
        "    return data"
      ],
      "metadata": {
        "id": "jrpiLF3j8zUh"
      },
      "execution_count": null,
      "outputs": []
    },
    {
      "cell_type": "markdown",
      "source": [
        "Transform"
      ],
      "metadata": {
        "id": "NBB89vLQ83nK"
      }
    },
    {
      "cell_type": "code",
      "source": [
        "def transform_data(data):\n",
        "    transformed_data = []\n",
        "    for row in data:\n",
        "        # Example transformation: calculate total amount\n",
        "        total_amount = float(row['Quantity']) * float(row['UnitPrice'])\n",
        "        row['TotalAmount'] = total_amount\n",
        "        transformed_data.append(row)\n",
        "    return transformed_data"
      ],
      "metadata": {
        "id": "cVFAM8x6838i"
      },
      "execution_count": null,
      "outputs": []
    },
    {
      "cell_type": "markdown",
      "source": [
        "Load"
      ],
      "metadata": {
        "id": "XPkWCeQx9BDy"
      }
    },
    {
      "cell_type": "code",
      "source": [
        "import sqlite3\n",
        "\n",
        "def load_data_to_database(data, db_file):\n",
        "    connection = sqlite3.connect(db_file)\n",
        "    cursor = connection.cursor()\n",
        "\n",
        "    # Create a table for the transformed data\n",
        "    cursor.execute('''\n",
        "        CREATE TABLE IF NOT EXISTS Orders (\n",
        "            OrderID INTEGER PRIMARY KEY,\n",
        "            CustomerID TEXT,\n",
        "            Quantity INTEGER,\n",
        "            UnitPrice REAL,\n",
        "            TotalAmount REAL\n",
        "        )\n",
        "    ''')\n",
        "\n",
        "    # Insert data into the database\n",
        "    for row in data:\n",
        "        cursor.execute('''\n",
        "            INSERT INTO Orders (CustomerID, Quantity, UnitPrice, TotalAmount)\n",
        "            VALUES (?, ?, ?, ?)\n",
        "        ''', (row['CustomerID'], row['Quantity'], row['UnitPrice'], row['TotalAmount']))\n",
        "\n",
        "    connection.commit()\n",
        "    connection.close()"
      ],
      "metadata": {
        "id": "0b2GDe6i9BrL"
      },
      "execution_count": null,
      "outputs": []
    },
    {
      "cell_type": "code",
      "source": [
        "%%writefile orders.csv\n",
        "OrderID,CustomerID,Quantity,UnitPrice\n",
        "1,C1001,3,10.5\n",
        "2,C1002,5,20.0\n",
        "3,C1003,2,15.75"
      ],
      "metadata": {
        "colab": {
          "base_uri": "https://localhost:8080/"
        },
        "id": "_11JFokR9FJT",
        "outputId": "f738cc76-1028-4a69-9969-5a3f689fe9f6"
      },
      "execution_count": null,
      "outputs": [
        {
          "output_type": "stream",
          "name": "stdout",
          "text": [
            "Writing orders.csv\n"
          ]
        }
      ]
    },
    {
      "cell_type": "code",
      "source": [
        "if __name__ == \"__main__\":\n",
        "    # Extract data from CSV\n",
        "    csv_file = 'orders.csv'\n",
        "    extracted_data = extract_data_from_csv(csv_file)\n",
        "\n",
        "    # Transform the extracted data\n",
        "    transformed_data = transform_data(extracted_data)\n",
        "\n",
        "    # Load the transformed data into an SQLite database\n",
        "    db_file = 'orders.db'\n",
        "    load_data_to_database(transformed_data, db_file)\n",
        "\n",
        "    print(\"ETL process completed successfully.\")"
      ],
      "metadata": {
        "colab": {
          "base_uri": "https://localhost:8080/"
        },
        "id": "7PMw-uXB9H4E",
        "outputId": "34e6965d-e8ee-4940-890e-9fd94262802b"
      },
      "execution_count": null,
      "outputs": [
        {
          "output_type": "stream",
          "name": "stdout",
          "text": [
            "ETL process completed successfully.\n"
          ]
        }
      ]
    },
    {
      "cell_type": "code",
      "source": [
        "import sqlite3\n",
        "\n",
        "def select_orders_from_database(db_file):\n",
        "    connection = sqlite3.connect(db_file)\n",
        "    cursor = connection.cursor()\n",
        "\n",
        "    # Execute SELECT query\n",
        "    cursor.execute('''\n",
        "        SELECT OrderID, CustomerID, Quantity, UnitPrice, TotalAmount\n",
        "        FROM Orders\n",
        "    ''')\n",
        "\n",
        "    # Fetch and display results\n",
        "    orders = cursor.fetchall()\n",
        "    for order in orders:\n",
        "        print(f\"OrderID: {order[0]}, CustomerID: {order[1]}, Quantity: {order[2]}, \"\n",
        "              f\"UnitPrice: {order[3]}, TotalAmount: {order[4]}\")\n",
        "\n",
        "    connection.close()\n",
        "\n",
        "if __name__ == \"__main__\":\n",
        "    # Specify the database file created during the ETL process\n",
        "    db_file = 'orders.db'\n",
        "\n",
        "    # Call the function to select and display orders from the database\n",
        "    select_orders_from_database(db_file)"
      ],
      "metadata": {
        "colab": {
          "base_uri": "https://localhost:8080/"
        },
        "id": "AN0z8bhP9R0N",
        "outputId": "11515219-a054-413b-805e-7de6c6969473"
      },
      "execution_count": null,
      "outputs": [
        {
          "output_type": "stream",
          "name": "stdout",
          "text": [
            "OrderID: 1, CustomerID: C1001, Quantity: 3, UnitPrice: 10.5, TotalAmount: 31.5\n",
            "OrderID: 2, CustomerID: C1002, Quantity: 5, UnitPrice: 20.0, TotalAmount: 100.0\n",
            "OrderID: 3, CustomerID: C1003, Quantity: 2, UnitPrice: 15.75, TotalAmount: 31.5\n"
          ]
        }
      ]
    },
    {
      "cell_type": "markdown",
      "source": [
        "#Enterprise Service Bus"
      ],
      "metadata": {
        "id": "1TTBAYTu94j4"
      }
    },
    {
      "cell_type": "markdown",
      "source": [
        "Producer"
      ],
      "metadata": {
        "id": "NVHzun0n-wXE"
      }
    },
    {
      "cell_type": "code",
      "source": [
        "import asyncio\n",
        "\n",
        "# Message queue (simulated in-memory queue)\n",
        "message_queue = []\n",
        "\n",
        "async def produce_messages(num_messages):\n",
        "    for i in range(1, num_messages + 1):\n",
        "        message = f\"Message {i}\"\n",
        "        message_queue.append(message)\n",
        "        print(f\"Produced: {message}\")\n",
        "        await asyncio.sleep(1)  # Simulate message production delay\n",
        "\n",
        "# Run the producer coroutine\n",
        "await produce_messages(5)  # Produce 5 messages"
      ],
      "metadata": {
        "colab": {
          "base_uri": "https://localhost:8080/"
        },
        "id": "Ig_ei3jW-shp",
        "outputId": "34dda5ff-3146-4004-c0ce-a616f9d010af"
      },
      "execution_count": null,
      "outputs": [
        {
          "output_type": "stream",
          "name": "stdout",
          "text": [
            "Produced: Message 1\n",
            "Produced: Message 2\n",
            "Produced: Message 3\n",
            "Produced: Message 4\n",
            "Produced: Message 5\n"
          ]
        }
      ]
    },
    {
      "cell_type": "markdown",
      "source": [
        "Consumer"
      ],
      "metadata": {
        "id": "XTnlAdXT-zIr"
      }
    },
    {
      "cell_type": "code",
      "source": [
        "async def consume_messages():\n",
        "    while message_queue:\n",
        "        message = message_queue.pop(0)  # Dequeue message\n",
        "        print(f\"Consumed: {message}\")\n",
        "        await asyncio.sleep(0.5)  # Simulate message processing delay\n",
        "\n",
        "    print(\"All messages consumed. Consumer exiting...\")\n",
        "\n",
        "# Run the consumer coroutine\n",
        "await consume_messages()"
      ],
      "metadata": {
        "colab": {
          "base_uri": "https://localhost:8080/"
        },
        "id": "QmvFdWAz-0YS",
        "outputId": "47e95c81-20e1-4acf-c67e-1d4683ef6847"
      },
      "execution_count": null,
      "outputs": [
        {
          "output_type": "stream",
          "name": "stdout",
          "text": [
            "Consumed: Message 1\n",
            "Consumed: Message 2\n",
            "Consumed: Message 3\n",
            "Consumed: Message 4\n",
            "Consumed: Message 5\n",
            "All messages consumed. Consumer exiting...\n"
          ]
        }
      ]
    }
  ]
}