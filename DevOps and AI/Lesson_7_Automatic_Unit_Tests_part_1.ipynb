{
  "nbformat": 4,
  "nbformat_minor": 0,
  "metadata": {
    "colab": {
      "provenance": []
    },
    "kernelspec": {
      "name": "python3",
      "display_name": "Python 3"
    },
    "language_info": {
      "name": "python"
    }
  },
  "cells": [
    {
      "cell_type": "markdown",
      "source": [
        "#Automatic Unit Tests part. 1"
      ],
      "metadata": {
        "id": "GhUKaXcVOe1O"
      }
    },
    {
      "cell_type": "code",
      "execution_count": null,
      "metadata": {
        "colab": {
          "base_uri": "https://localhost:8080/"
        },
        "id": "_HhnhMdcLCml",
        "outputId": "327774f0-08ac-4510-f3b4-9dfe106c1932"
      },
      "outputs": [
        {
          "output_type": "stream",
          "name": "stdout",
          "text": [
            "Writing item_crud_service.py\n"
          ]
        }
      ],
      "source": [
        "%%writefile item_crud_service.py\n",
        "from flask import Flask, request, jsonify\n",
        "\n",
        "app = Flask(__name__)\n",
        "\n",
        "# Sample data store (replace with a database)\n",
        "data = []\n",
        "\n",
        "# Create\n",
        "@app.route('/items', methods=['POST'])\n",
        "def create_item():\n",
        "  new_item = request.get_json()\n",
        "  if not new_item:\n",
        "    return jsonify({'error': 'Missing item data'}), 400\n",
        "\n",
        "  data.append(new_item)\n",
        "  return jsonify({'message': 'Item created successfully'}), 201\n",
        "\n",
        "# Read All\n",
        "@app.route('/items', methods=['GET'])\n",
        "def get_all_items():\n",
        "  return jsonify(data)\n",
        "\n",
        "# Read One\n",
        "@app.route('/items/<int:item_id>', methods=['GET'])\n",
        "def get_item(item_id):\n",
        "  for item in data:\n",
        "    if item['id'] == item_id:\n",
        "      return jsonify(item)\n",
        "  return jsonify({'error': 'Item not found'}), 404\n",
        "\n",
        "# Update\n",
        "@app.route('/items/<int:item_id>', methods=['PUT'])\n",
        "def update_item(item_id):\n",
        "  update_data = request.get_json()\n",
        "  if not update_data:\n",
        "    return jsonify({'error': 'Missing update data'}), 400\n",
        "\n",
        "  for i, item in enumerate(data):\n",
        "    if item['id'] == item_id:\n",
        "      data[i] = update_data\n",
        "      return jsonify({'message': 'Item updated successfully'})\n",
        "  return jsonify({'error': 'Item not found'}), 404\n",
        "\n",
        "# Delete\n",
        "@app.route('/items/<int:item_id>', methods=['DELETE'])\n",
        "def delete_item(item_id):\n",
        "  for i, item in enumerate(data):\n",
        "    if item['id'] == item_id:\n",
        "      del data[i]\n",
        "      return jsonify({'message': 'Item deleted successfully'})\n",
        "  return jsonify({'error': 'Item not found'}), 404\n",
        "\n",
        "if __name__ == '__main__':\n",
        "  app.run(debug=True)"
      ]
    },
    {
      "cell_type": "code",
      "source": [
        "!pip install pylint"
      ],
      "metadata": {
        "colab": {
          "base_uri": "https://localhost:8080/"
        },
        "id": "kPOAOxb5MLb2",
        "outputId": "890936fc-c8a0-4088-ea4b-dd3f591f104b"
      },
      "execution_count": null,
      "outputs": [
        {
          "output_type": "stream",
          "name": "stdout",
          "text": [
            "Collecting pylint\n",
            "  Downloading pylint-3.1.0-py3-none-any.whl (515 kB)\n",
            "\u001b[?25l     \u001b[90m━━━━━━━━━━━━━━━━━━━━━━━━━━━━━━━━━━━━━━━━\u001b[0m \u001b[32m0.0/515.6 kB\u001b[0m \u001b[31m?\u001b[0m eta \u001b[36m-:--:--\u001b[0m\r\u001b[2K     \u001b[91m━━━━━━━\u001b[0m\u001b[90m╺\u001b[0m\u001b[90m━━━━━━━━━━━━━━━━━━━━━━━━━━━━━━━━\u001b[0m \u001b[32m92.2/515.6 kB\u001b[0m \u001b[31m2.5 MB/s\u001b[0m eta \u001b[36m0:00:01\u001b[0m\r\u001b[2K     \u001b[90m━━━━━━━━━━━━━━━━━━━━━━━━━━━━━━━━━━━━━━━━\u001b[0m \u001b[32m515.6/515.6 kB\u001b[0m \u001b[31m8.1 MB/s\u001b[0m eta \u001b[36m0:00:00\u001b[0m\n",
            "\u001b[?25hRequirement already satisfied: platformdirs>=2.2.0 in /usr/local/lib/python3.10/dist-packages (from pylint) (4.2.0)\n",
            "Collecting astroid<=3.2.0-dev0,>=3.1.0 (from pylint)\n",
            "  Downloading astroid-3.1.0-py3-none-any.whl (275 kB)\n",
            "\u001b[2K     \u001b[90m━━━━━━━━━━━━━━━━━━━━━━━━━━━━━━━━━━━━━━━━\u001b[0m \u001b[32m275.6/275.6 kB\u001b[0m \u001b[31m28.2 MB/s\u001b[0m eta \u001b[36m0:00:00\u001b[0m\n",
            "\u001b[?25hCollecting isort!=5.13.0,<6,>=4.2.5 (from pylint)\n",
            "  Downloading isort-5.13.2-py3-none-any.whl (92 kB)\n",
            "\u001b[2K     \u001b[90m━━━━━━━━━━━━━━━━━━━━━━━━━━━━━━━━━━━━━━━━\u001b[0m \u001b[32m92.3/92.3 kB\u001b[0m \u001b[31m11.2 MB/s\u001b[0m eta \u001b[36m0:00:00\u001b[0m\n",
            "\u001b[?25hCollecting mccabe<0.8,>=0.6 (from pylint)\n",
            "  Downloading mccabe-0.7.0-py2.py3-none-any.whl (7.3 kB)\n",
            "Collecting tomlkit>=0.10.1 (from pylint)\n",
            "  Downloading tomlkit-0.12.4-py3-none-any.whl (37 kB)\n",
            "Collecting dill>=0.2 (from pylint)\n",
            "  Downloading dill-0.3.8-py3-none-any.whl (116 kB)\n",
            "\u001b[2K     \u001b[90m━━━━━━━━━━━━━━━━━━━━━━━━━━━━━━━━━━━━━━━━\u001b[0m \u001b[32m116.3/116.3 kB\u001b[0m \u001b[31m16.5 MB/s\u001b[0m eta \u001b[36m0:00:00\u001b[0m\n",
            "\u001b[?25hRequirement already satisfied: tomli>=1.1.0 in /usr/local/lib/python3.10/dist-packages (from pylint) (2.0.1)\n",
            "Requirement already satisfied: typing-extensions>=4.0.0 in /usr/local/lib/python3.10/dist-packages (from astroid<=3.2.0-dev0,>=3.1.0->pylint) (4.11.0)\n",
            "Installing collected packages: tomlkit, mccabe, isort, dill, astroid, pylint\n",
            "Successfully installed astroid-3.1.0 dill-0.3.8 isort-5.13.2 mccabe-0.7.0 pylint-3.1.0 tomlkit-0.12.4\n"
          ]
        }
      ]
    },
    {
      "cell_type": "code",
      "source": [
        "!pylint item_crud_service.py"
      ],
      "metadata": {
        "colab": {
          "base_uri": "https://localhost:8080/"
        },
        "id": "hl-_g6RKMKbG",
        "outputId": "3aa26a4c-f427-46f3-e2c5-807655f2f9eb"
      },
      "execution_count": null,
      "outputs": [
        {
          "output_type": "stream",
          "name": "stdout",
          "text": [
            "************* Module item_crud_service\n",
            "item_crud_service.py:11:0: W0311: Bad indentation. Found 2 spaces, expected 4 (bad-indentation)\n",
            "item_crud_service.py:12:0: W0311: Bad indentation. Found 2 spaces, expected 4 (bad-indentation)\n",
            "item_crud_service.py:13:0: W0311: Bad indentation. Found 4 spaces, expected 8 (bad-indentation)\n",
            "item_crud_service.py:15:0: W0311: Bad indentation. Found 2 spaces, expected 4 (bad-indentation)\n",
            "item_crud_service.py:16:0: W0311: Bad indentation. Found 2 spaces, expected 4 (bad-indentation)\n",
            "item_crud_service.py:21:0: W0311: Bad indentation. Found 2 spaces, expected 4 (bad-indentation)\n",
            "item_crud_service.py:26:0: W0311: Bad indentation. Found 2 spaces, expected 4 (bad-indentation)\n",
            "item_crud_service.py:27:0: W0311: Bad indentation. Found 4 spaces, expected 8 (bad-indentation)\n",
            "item_crud_service.py:28:0: W0311: Bad indentation. Found 6 spaces, expected 12 (bad-indentation)\n",
            "item_crud_service.py:29:0: W0311: Bad indentation. Found 2 spaces, expected 4 (bad-indentation)\n",
            "item_crud_service.py:34:0: W0311: Bad indentation. Found 2 spaces, expected 4 (bad-indentation)\n",
            "item_crud_service.py:35:0: W0311: Bad indentation. Found 2 spaces, expected 4 (bad-indentation)\n",
            "item_crud_service.py:36:0: W0311: Bad indentation. Found 4 spaces, expected 8 (bad-indentation)\n",
            "item_crud_service.py:38:0: W0311: Bad indentation. Found 2 spaces, expected 4 (bad-indentation)\n",
            "item_crud_service.py:39:0: W0311: Bad indentation. Found 4 spaces, expected 8 (bad-indentation)\n",
            "item_crud_service.py:40:0: W0311: Bad indentation. Found 6 spaces, expected 12 (bad-indentation)\n",
            "item_crud_service.py:41:0: W0311: Bad indentation. Found 6 spaces, expected 12 (bad-indentation)\n",
            "item_crud_service.py:42:0: W0311: Bad indentation. Found 2 spaces, expected 4 (bad-indentation)\n",
            "item_crud_service.py:47:0: W0311: Bad indentation. Found 2 spaces, expected 4 (bad-indentation)\n",
            "item_crud_service.py:48:0: W0311: Bad indentation. Found 4 spaces, expected 8 (bad-indentation)\n",
            "item_crud_service.py:49:0: W0311: Bad indentation. Found 6 spaces, expected 12 (bad-indentation)\n",
            "item_crud_service.py:50:0: W0311: Bad indentation. Found 6 spaces, expected 12 (bad-indentation)\n",
            "item_crud_service.py:51:0: W0311: Bad indentation. Found 2 spaces, expected 4 (bad-indentation)\n",
            "item_crud_service.py:54:0: W0311: Bad indentation. Found 2 spaces, expected 4 (bad-indentation)\n",
            "item_crud_service.py:1:0: C0114: Missing module docstring (missing-module-docstring)\n",
            "item_crud_service.py:10:0: C0116: Missing function or method docstring (missing-function-docstring)\n",
            "item_crud_service.py:20:0: C0116: Missing function or method docstring (missing-function-docstring)\n",
            "item_crud_service.py:25:0: C0116: Missing function or method docstring (missing-function-docstring)\n",
            "item_crud_service.py:33:0: C0116: Missing function or method docstring (missing-function-docstring)\n",
            "item_crud_service.py:46:0: C0116: Missing function or method docstring (missing-function-docstring)\n",
            "\n",
            "-----------------------------------\n",
            "Your code has been rated at 0.91/10\n",
            "\n"
          ]
        }
      ]
    },
    {
      "cell_type": "code",
      "source": [
        "%%writefile test_item_crud_service.py\n",
        "import pytest\n",
        "import json\n",
        "from item_crud_service import app, data\n",
        "\n",
        "@pytest.fixture\n",
        "def client():\n",
        "    app.testing = True\n",
        "    with app.test_client() as client:\n",
        "        yield client\n",
        "\n",
        "@pytest.fixture\n",
        "def sample_data():\n",
        "    # Sample data for testing\n",
        "    item1 = {'id': 1, 'name': 'Item A', 'description': 'First item'}\n",
        "    item2 = {'id': 2, 'name': 'Item B', 'description': 'Second item'}\n",
        "    data.extend([item1, item2])\n",
        "\n",
        "    yield\n",
        "\n",
        "    # Teardown - clear the data after each test\n",
        "    data.clear()\n",
        "\n",
        "def test_create_item(client, sample_data):\n",
        "    new_item = {'id': 3, 'name': 'Item C', 'description': 'Third item'}\n",
        "    response = client.post('/items', json=new_item)\n",
        "    assert response.status_code == 201\n",
        "    assert new_item in data\n",
        "\n",
        "def test_get_all_items(client, sample_data):\n",
        "    response = client.get('/items')\n",
        "    assert response.status_code == 200\n",
        "    assert json.loads(response.data) == data\n",
        "\n",
        "def test_get_item(client, sample_data):\n",
        "    response = client.get('/items/1')\n",
        "    assert response.status_code == 200\n",
        "    assert json.loads(response.data) == {'id': 1, 'name': 'Item A', 'description': 'First item'}\n",
        "\n",
        "    response = client.get('/items/99')  # Item not found\n",
        "    assert response.status_code == 404\n",
        "\n",
        "def test_update_item(client, sample_data):\n",
        "    updated_item = {'id': 1, 'name': 'Updated Item A', 'description': 'Updated description'}\n",
        "    response = client.put('/items/1', json=updated_item)\n",
        "    assert response.status_code == 200\n",
        "    assert updated_item in data\n",
        "\n",
        "    response = client.put('/items/99', json=updated_item)  # Item not found\n",
        "    assert response.status_code == 404\n",
        "\n",
        "def test_delete_item(client, sample_data):\n",
        "    response = client.delete('/items/1')\n",
        "    assert response.status_code == 200\n",
        "    assert {'id': 1, 'name': 'Item A', 'description': 'First item'} not in data\n",
        "\n",
        "    response = client.delete('/items/99')  # Item not found\n",
        "    assert response.status_code == 404"
      ],
      "metadata": {
        "colab": {
          "base_uri": "https://localhost:8080/"
        },
        "id": "PSlct-oFNsGe",
        "outputId": "97b4a2af-24b2-4f2d-b833-f34cbf99e55d"
      },
      "execution_count": null,
      "outputs": [
        {
          "output_type": "stream",
          "name": "stdout",
          "text": [
            "Writing test_item_crud_service.py\n"
          ]
        }
      ]
    },
    {
      "cell_type": "code",
      "source": [
        "!pytest test_item_crud_service.py"
      ],
      "metadata": {
        "colab": {
          "base_uri": "https://localhost:8080/"
        },
        "id": "qTPIZMKUOYw3",
        "outputId": "f8aa6779-1e9a-432f-dc28-22fb714d905b"
      },
      "execution_count": null,
      "outputs": [
        {
          "output_type": "stream",
          "name": "stdout",
          "text": [
            "\u001b[1m======================================= test session starts ========================================\u001b[0m\n",
            "platform linux -- Python 3.10.12, pytest-7.4.4, pluggy-1.4.0\n",
            "rootdir: /content\n",
            "plugins: anyio-3.7.1\n",
            "\u001b[1mcollecting ... \u001b[0m\u001b[1m\rcollected 5 items                                                                                  \u001b[0m\n",
            "\n",
            "test_item_crud_service.py \u001b[32m.\u001b[0m\u001b[32m.\u001b[0m\u001b[32m.\u001b[0m\u001b[32m.\u001b[0m\u001b[32m.\u001b[0m\u001b[32m                                                              [100%]\u001b[0m\n",
            "\n",
            "\u001b[32m======================================== \u001b[32m\u001b[1m5 passed\u001b[0m\u001b[32m in 0.18s\u001b[0m\u001b[32m =========================================\u001b[0m\n"
          ]
        }
      ]
    }
  ]
}