{
  "nbformat": 4,
  "nbformat_minor": 0,
  "metadata": {
    "colab": {
      "provenance": []
    },
    "kernelspec": {
      "name": "python3",
      "display_name": "Python 3"
    },
    "language_info": {
      "name": "python"
    }
  },
  "cells": [
    {
      "cell_type": "markdown",
      "source": [
        "#Coupling"
      ],
      "metadata": {
        "id": "wXms6W6OpjhA"
      }
    },
    {
      "cell_type": "markdown",
      "source": [
        "#Content Coupling"
      ],
      "metadata": {
        "id": "_GRlRWJfpiBS"
      }
    },
    {
      "cell_type": "markdown",
      "source": [
        "Content coupling occurs when one module directly uses the internal data elements of another module."
      ],
      "metadata": {
        "id": "_ZtooSAmpl2p"
      }
    },
    {
      "cell_type": "code",
      "source": [
        "# Module A: ShoppingCart module\n",
        "class ShoppingCart:\n",
        "    def __init__(self):\n",
        "        self.items = []\n",
        "\n",
        "    def add_item(self, item):\n",
        "        self.items.append(item)\n",
        "\n",
        "# Module B: OrderProcessor module\n",
        "class OrderProcessor:\n",
        "    def process_order(cart):\n",
        "        for item in cart.items:\n",
        "            print(f\"Processing item: {item}\")\n",
        "\n",
        "# Usage\n",
        "cart = ShoppingCart()\n",
        "cart.add_item(\"Laptop\")\n",
        "cart.add_item(\"Mouse\")\n",
        "OrderProcessor.process_order(cart)"
      ],
      "metadata": {
        "colab": {
          "base_uri": "https://localhost:8080/"
        },
        "id": "Mc7uvx4RpjI5",
        "outputId": "a9146a63-61d6-47c6-8876-021ce4243f32"
      },
      "execution_count": null,
      "outputs": [
        {
          "output_type": "stream",
          "name": "stdout",
          "text": [
            "Processing item: Laptop\n",
            "Processing item: Mouse\n"
          ]
        }
      ]
    },
    {
      "cell_type": "markdown",
      "source": [
        "#Common Coupling"
      ],
      "metadata": {
        "id": "10kczEEyqd9R"
      }
    },
    {
      "cell_type": "markdown",
      "source": [
        "Common coupling occurs when modules share global data.\n",
        "\n"
      ],
      "metadata": {
        "id": "1IyksY8AqgIh"
      }
    },
    {
      "cell_type": "code",
      "execution_count": null,
      "metadata": {
        "colab": {
          "base_uri": "https://localhost:8080/"
        },
        "id": "Rw10c0kYoZ8_",
        "outputId": "28c3aa01-0330-4f56-fd02-b904fa1c8d4f"
      },
      "outputs": [
        {
          "output_type": "stream",
          "name": "stdout",
          "text": [
            "Making API call to /products with API key: my_secret_key\n"
          ]
        }
      ],
      "source": [
        "# Module A: Configuration module\n",
        "api_key = None\n",
        "\n",
        "# Module B: API module\n",
        "def set_api_key(key):\n",
        "    global api_key\n",
        "    api_key = key\n",
        "\n",
        "def make_api_call(endpoint):\n",
        "    if api_key:\n",
        "        print(f\"Making API call to {endpoint} with API key: {api_key}\")\n",
        "    else:\n",
        "        print(\"API key not set. Unable to make API call.\")\n",
        "\n",
        "# Usage\n",
        "set_api_key(\"my_secret_key\")\n",
        "make_api_call(\"/products\")"
      ]
    },
    {
      "cell_type": "markdown",
      "source": [
        "#Control Coupling"
      ],
      "metadata": {
        "id": "3Jp_mTJoqlWx"
      }
    },
    {
      "cell_type": "markdown",
      "source": [
        "Control coupling occurs when one module controls the behavior of another module by passing control information."
      ],
      "metadata": {
        "id": "1QDPasICqnxB"
      }
    },
    {
      "cell_type": "code",
      "source": [
        "# Module A: Data processing module\n",
        "def process_data(data, is_valid):\n",
        "    if is_valid:\n",
        "        print(f\"Processing data: {data}\")\n",
        "    else:\n",
        "        print(\"Invalid data. Processing aborted.\")\n",
        "\n",
        "# Module B: Validation module\n",
        "def validate_data(data):\n",
        "    return len(data) > 0  # Simple validation logic\n",
        "\n",
        "# Usage\n",
        "data = \"Hello\"\n",
        "is_valid = validate_data(data)\n",
        "process_data(data, is_valid)"
      ],
      "metadata": {
        "colab": {
          "base_uri": "https://localhost:8080/"
        },
        "id": "cHhU5At0qmlc",
        "outputId": "a11fdfbc-ab59-4b70-93f4-10af4d301ad4"
      },
      "execution_count": null,
      "outputs": [
        {
          "output_type": "stream",
          "name": "stdout",
          "text": [
            "Processing data: Hello\n"
          ]
        }
      ]
    },
    {
      "cell_type": "markdown",
      "source": [
        "#Stamp Coupling"
      ],
      "metadata": {
        "id": "FidqhKtaq9N8"
      }
    },
    {
      "cell_type": "markdown",
      "source": [
        "Stamp coupling occurs when a module receives a data structure but only uses a part of it.\n",
        "\n"
      ],
      "metadata": {
        "id": "Tq6Y86ryq-Fl"
      }
    },
    {
      "cell_type": "code",
      "source": [
        "# Module A: User processing module\n",
        "def process_user_info(name):\n",
        "    print(f\"Processing user with name: {name}\")\n",
        "\n",
        "# Module B: Data source module\n",
        "user_info = {'name': 'John', 'age': 30, 'location': 'New York'}\n",
        "\n",
        "# Usage\n",
        "process_user_info(user_info['name'])"
      ],
      "metadata": {
        "colab": {
          "base_uri": "https://localhost:8080/"
        },
        "id": "PlKCwQHOq_Os",
        "outputId": "f6acfdbf-476b-4fc0-b8a9-5f144a888111"
      },
      "execution_count": null,
      "outputs": [
        {
          "output_type": "stream",
          "name": "stdout",
          "text": [
            "Processing user with name: John\n"
          ]
        }
      ]
    },
    {
      "cell_type": "markdown",
      "source": [
        "#Data Coupling"
      ],
      "metadata": {
        "id": "DR5FiKVCrFkW"
      }
    },
    {
      "cell_type": "markdown",
      "source": [
        "Data coupling occurs when modules communicate by passing simple data types.\n",
        "\n"
      ],
      "metadata": {
        "id": "ZH6Dg5o6rGWE"
      }
    },
    {
      "cell_type": "code",
      "source": [
        "# Module A: Math module\n",
        "def multiply_numbers(x, y):\n",
        "    return x * y\n",
        "\n",
        "# Usage\n",
        "result = multiply_numbers(5, 10)\n",
        "print(f\"Result of multiplication: {result}\")"
      ],
      "metadata": {
        "colab": {
          "base_uri": "https://localhost:8080/"
        },
        "id": "9r_3hlXOrHaa",
        "outputId": "c32b57c2-9757-470a-ace5-13eec247bb43"
      },
      "execution_count": null,
      "outputs": [
        {
          "output_type": "stream",
          "name": "stdout",
          "text": [
            "Result of multiplication: 50\n"
          ]
        }
      ]
    },
    {
      "cell_type": "markdown",
      "source": [
        "#Message Coupling"
      ],
      "metadata": {
        "id": "Z7qRAj1hrLAi"
      }
    },
    {
      "cell_type": "markdown",
      "source": [
        "Message coupling occurs when modules communicate by using parameters representing whole messages or data structures."
      ],
      "metadata": {
        "id": "-v3UIh3nrNF6"
      }
    },
    {
      "cell_type": "code",
      "source": [
        "# Module A: Message processing module\n",
        "def process_message(message):\n",
        "    if message['type'] == 'email':\n",
        "        print(f\"Processing email message: {message['content']}\")\n",
        "    elif message['type'] == 'sms':\n",
        "        print(f\"Processing SMS message: {message['content']}\")\n",
        "\n",
        "# Usage\n",
        "email_message = {'type': 'email', 'content': 'Hello, world!'}\n",
        "process_message(email_message)"
      ],
      "metadata": {
        "colab": {
          "base_uri": "https://localhost:8080/"
        },
        "id": "qaR81DHxrOIK",
        "outputId": "287bdc30-5537-49b9-ff32-cd0b985ed219"
      },
      "execution_count": null,
      "outputs": [
        {
          "output_type": "stream",
          "name": "stdout",
          "text": [
            "Processing email message: Hello, world!\n"
          ]
        }
      ]
    },
    {
      "cell_type": "markdown",
      "source": [
        "#No Coupling (or Loose Coupling)"
      ],
      "metadata": {
        "id": "w2X4i8CMrbRs"
      }
    },
    {
      "cell_type": "markdown",
      "source": [
        "No coupling implies that modules are completely independent and do not rely on each other."
      ],
      "metadata": {
        "id": "TmlO4t7Grb-8"
      }
    },
    {
      "cell_type": "code",
      "source": [
        "# Module A: Email sender module\n",
        "class EmailSender:\n",
        "    def send_email(self, to, subject, body):\n",
        "        print(f\"Sending email to {to}: Subject - {subject}, Body - {body}\")\n",
        "\n",
        "# Module B: SMS sender module\n",
        "class SMSSender:\n",
        "    def send_sms(self, to, message):\n",
        "        print(f\"Sending SMS to {to}: Message - {message}\")\n",
        "\n",
        "# Usage\n",
        "email_sender = EmailSender()\n",
        "email_sender.send_email(\"user@example.com\", \"Hello\", \"This is an email message\")\n",
        "\n",
        "sms_sender = SMSSender()\n",
        "sms_sender.send_sms(\"5551234567\", \"Hello from SMS!\")"
      ],
      "metadata": {
        "colab": {
          "base_uri": "https://localhost:8080/"
        },
        "id": "GPrIGnz3rdLM",
        "outputId": "63199102-f6e4-4490-bec2-70d97b7fa89d"
      },
      "execution_count": null,
      "outputs": [
        {
          "output_type": "stream",
          "name": "stdout",
          "text": [
            "Sending email to user@example.com: Subject - Hello, Body - This is an email message\n",
            "Sending SMS to 5551234567: Message - Hello from SMS!\n"
          ]
        }
      ]
    },
    {
      "cell_type": "markdown",
      "source": [
        "#Afferent Coupling (Ca)\n",
        "Afferent coupling refers to the number of classes outside the current class that depend on the current class. It measures the incoming dependencies to a class.\n"
      ],
      "metadata": {
        "id": "c-9r9uzZsKk6"
      }
    },
    {
      "cell_type": "code",
      "source": [
        "%%writefile calculator.py\n",
        "\n",
        "# Module: Calculator\n",
        "class Calculator:\n",
        "    def add(self, x, y):\n",
        "        return x + y\n",
        "\n",
        "    def subtract(self, x, y):\n",
        "        return x - y\n",
        "\n",
        "    def multiply(self, x, y):\n",
        "        return x * y\n",
        "\n",
        "    def divide(self, x, y):\n",
        "        if y != 0:\n",
        "            return x / y\n",
        "        else:\n",
        "            raise ValueError(\"Cannot divide by zero\")\n",
        "\n"
      ],
      "metadata": {
        "colab": {
          "base_uri": "https://localhost:8080/"
        },
        "id": "xAF9RWhbsoDR",
        "outputId": "46aa17d3-99cc-48bf-9984-1da27700101e"
      },
      "execution_count": null,
      "outputs": [
        {
          "output_type": "stream",
          "name": "stdout",
          "text": [
            "Writing calculator.py\n"
          ]
        }
      ]
    },
    {
      "cell_type": "code",
      "source": [
        "# Module: ReportGenerator\n",
        "from calculator import Calculator\n",
        "\n",
        "class ReportGenerator:\n",
        "    def __init__(self):\n",
        "        self.calculator = Calculator()\n",
        "\n",
        "    def generate_report(self, data):\n",
        "        # Calculate total sum of data\n",
        "        total_sum = sum(data)\n",
        "\n",
        "        # Calculate average using Calculator's divide method\n",
        "        num_items = len(data)\n",
        "        average = self.calculator.divide(total_sum, num_items)\n",
        "\n",
        "        # Print the generated report\n",
        "        print(f\"Generated report - Total Sum: {total_sum}, Average: {average}\")\n",
        "\n",
        "# Usage\n",
        "report_data = [10, 20, 30, 40]\n",
        "report_generator = ReportGenerator()\n",
        "report_generator.generate_report(report_data)"
      ],
      "metadata": {
        "colab": {
          "base_uri": "https://localhost:8080/"
        },
        "id": "k60kpykvsr9y",
        "outputId": "2adfe52f-babb-4d67-ed49-dcd7fc510ba4"
      },
      "execution_count": null,
      "outputs": [
        {
          "output_type": "stream",
          "name": "stdout",
          "text": [
            "Generated report - Total Sum: 100, Average: 25.0\n"
          ]
        }
      ]
    },
    {
      "cell_type": "markdown",
      "source": [
        "#Efferent Coupling (Ce)\n",
        "Efferent coupling refers to the number of classes inside the current class that depend on classes outside the current class. It measures the outgoing dependencies from a class."
      ],
      "metadata": {
        "id": "Bawv37j_td5k"
      }
    },
    {
      "cell_type": "code",
      "source": [
        "%%writefile logger.py\n",
        "\n",
        "class Logger:\n",
        "    def log_message(self, message):\n",
        "        # Log the message\n",
        "        print(f\"Logging message: {message}\")"
      ],
      "metadata": {
        "colab": {
          "base_uri": "https://localhost:8080/"
        },
        "id": "T_FtYepttfyz",
        "outputId": "3d9122b6-b327-43a8-c8b4-919bda7398fe"
      },
      "execution_count": null,
      "outputs": [
        {
          "output_type": "stream",
          "name": "stdout",
          "text": [
            "Writing logger.py\n"
          ]
        }
      ]
    },
    {
      "cell_type": "code",
      "source": [
        "%%writefile order_processor.py\n",
        "from logger import Logger\n",
        "\n",
        "class OrderProcessor:\n",
        "    def __init__(self):\n",
        "        self.logger = Logger()\n",
        "\n",
        "    def process_order(self, order):\n",
        "        # Process the order and log a message\n",
        "        self.logger.log_message(f\"Processing order: {order}\")"
      ],
      "metadata": {
        "colab": {
          "base_uri": "https://localhost:8080/"
        },
        "id": "Wm6HS1I0uMuN",
        "outputId": "406f7a78-0189-4b90-f5b7-d40700f39961"
      },
      "execution_count": null,
      "outputs": [
        {
          "output_type": "stream",
          "name": "stdout",
          "text": [
            "Writing order_processor.py\n"
          ]
        }
      ]
    },
    {
      "cell_type": "code",
      "source": [
        "%%writefile email_service.py\n",
        "from logger import Logger\n",
        "\n",
        "class EmailService:\n",
        "    def __init__(self):\n",
        "        self.logger = Logger()\n",
        "\n",
        "    def send_email(self, to, subject, body):\n",
        "        # Send an email and log a message\n",
        "        self.logger.log_message(f\"Sending email to {to}: Subject - {subject}\")"
      ],
      "metadata": {
        "colab": {
          "base_uri": "https://localhost:8080/"
        },
        "id": "bVFgfNcTuPUq",
        "outputId": "0ceb8005-8e87-419a-8fb3-95a5001681f6"
      },
      "execution_count": null,
      "outputs": [
        {
          "output_type": "stream",
          "name": "stdout",
          "text": [
            "Writing email_service.py\n"
          ]
        }
      ]
    },
    {
      "cell_type": "code",
      "source": [
        "%%writefile payment_processor.py\n",
        "from logger import Logger\n",
        "\n",
        "class PaymentProcessor:\n",
        "    def __init__(self):\n",
        "        self.logger = Logger()\n",
        "\n",
        "    def process_payment(self, amount):\n",
        "        # Process payment and log a message\n",
        "        self.logger.log_message(f\"Processing payment of ${amount}\")"
      ],
      "metadata": {
        "colab": {
          "base_uri": "https://localhost:8080/"
        },
        "id": "QywMTEf2uQrp",
        "outputId": "88d856e3-5ff3-4ba4-dc70-02a9ed02a54a"
      },
      "execution_count": null,
      "outputs": [
        {
          "output_type": "stream",
          "name": "stdout",
          "text": [
            "Writing payment_processor.py\n"
          ]
        }
      ]
    },
    {
      "cell_type": "code",
      "source": [
        "%%writefile online_store.py\n",
        "from order_processor import OrderProcessor\n",
        "from email_service import EmailService\n",
        "from payment_processor import PaymentProcessor\n",
        "\n",
        "class OnlineStore:\n",
        "    def __init__(self):\n",
        "        self.order_processor = OrderProcessor()\n",
        "        self.email_service = EmailService()\n",
        "        self.payment_processor = PaymentProcessor()\n",
        "\n",
        "    def process_order(self, order):\n",
        "        # Process order using various components and log messages\n",
        "        self.order_processor.process_order(order)\n",
        "        self.email_service.send_email(\"customer@example.com\", \"Order Confirmation\", \"Your order is confirmed.\")\n",
        "        self.payment_processor.process_payment(100.0)"
      ],
      "metadata": {
        "colab": {
          "base_uri": "https://localhost:8080/"
        },
        "id": "cr1GuZ6RuSGq",
        "outputId": "c228797f-e14e-41ce-f653-45ca0eed9b54"
      },
      "execution_count": null,
      "outputs": [
        {
          "output_type": "stream",
          "name": "stdout",
          "text": [
            "Writing online_store.py\n"
          ]
        }
      ]
    },
    {
      "cell_type": "code",
      "source": [
        "from online_store import OnlineStore\n",
        "\n",
        "online_store = OnlineStore()\n",
        "online_store.process_order(\"12345\")"
      ],
      "metadata": {
        "id": "RGJ1sHS-uTfi",
        "outputId": "993ff69a-c529-4cf5-d248-b4f5f0bd0eff",
        "colab": {
          "base_uri": "https://localhost:8080/"
        }
      },
      "execution_count": null,
      "outputs": [
        {
          "output_type": "stream",
          "name": "stdout",
          "text": [
            "Logging message: Processing order: 12345\n",
            "Logging message: Sending email to customer@example.com: Subject - Order Confirmation\n",
            "Logging message: Processing payment of $100.0\n"
          ]
        }
      ]
    }
  ]
}