{
  "nbformat": 4,
  "nbformat_minor": 0,
  "metadata": {
    "colab": {
      "provenance": []
    },
    "kernelspec": {
      "name": "python3",
      "display_name": "Python 3"
    },
    "language_info": {
      "name": "python"
    }
  },
  "cells": [
    {
      "cell_type": "markdown",
      "source": [
        "#Functional Cohesion:"
      ],
      "metadata": {
        "id": "KR89-6JtmgfN"
      }
    },
    {
      "cell_type": "markdown",
      "source": [
        "This is the highest level of cohesion, where every element within a module is related to performing a single task or function."
      ],
      "metadata": {
        "id": "StEmoPg_mkpJ"
      }
    },
    {
      "cell_type": "code",
      "execution_count": null,
      "metadata": {
        "colab": {
          "base_uri": "https://localhost:8080/"
        },
        "id": "N29z3hrCmBmx",
        "outputId": "e7466e03-3cdc-428f-d307-e6d128e54409"
      },
      "outputs": [
        {
          "output_type": "stream",
          "name": "stdout",
          "text": [
            "Area of circle with radius 5 is: 78.5\n"
          ]
        }
      ],
      "source": [
        "# Functional Cohesion Example\n",
        "\n",
        "def calculate_area(radius):\n",
        "    \"\"\"Calculate the area of a circle given its radius.\"\"\"\n",
        "    return 3.14 * radius * radius\n",
        "\n",
        "# Usage\n",
        "radius = 5\n",
        "area = calculate_area(radius)\n",
        "print(f\"Area of circle with radius {radius} is: {area}\")"
      ]
    },
    {
      "cell_type": "markdown",
      "source": [
        "#Sequential Cohesion:"
      ],
      "metadata": {
        "id": "mcmLLxOqmnds"
      }
    },
    {
      "cell_type": "markdown",
      "source": [
        "Elements in the module are related because they are executed sequentially.\n"
      ],
      "metadata": {
        "id": "kpq3V6OEmqYN"
      }
    },
    {
      "cell_type": "code",
      "source": [
        "# Sequential Cohesion Example: Process Student Data\n",
        "\n",
        "def process_student_data():\n",
        "    \"\"\"Process student data by loading, analyzing, and generating a report.\"\"\"\n",
        "    data = load_student_data()\n",
        "    analysis_result = analyze_student_data(data)\n",
        "    generate_student_report(data, analysis_result)\n",
        "\n",
        "def load_student_data():\n",
        "    \"\"\"Load student data from a database or file.\"\"\"\n",
        "    # Assume data loading logic here\n",
        "    return {\"John\": 85, \"Alice\": 92, \"Bob\": 78}\n",
        "\n",
        "def analyze_student_data(data):\n",
        "    \"\"\"Analyze student performance data.\"\"\"\n",
        "    average_score = sum(data.values()) / len(data)\n",
        "    return {\"average_score\": average_score, \"num_students\": len(data)}\n",
        "\n",
        "def generate_student_report(data, analysis_result):\n",
        "    \"\"\"Generate a report based on student data and analysis.\"\"\"\n",
        "    print(\"Student Report:\")\n",
        "    print(f\"Average Score: {analysis_result['average_score']:.2f}\")\n",
        "    print(f\"Number of Students: {analysis_result['num_students']}\")\n",
        "\n",
        "# Usage\n",
        "process_student_data()"
      ],
      "metadata": {
        "colab": {
          "base_uri": "https://localhost:8080/"
        },
        "id": "vBQD-NH1mrWX",
        "outputId": "8e3b062b-8ee5-497d-932f-7eee9a55b703"
      },
      "execution_count": null,
      "outputs": [
        {
          "output_type": "stream",
          "name": "stdout",
          "text": [
            "Student Report:\n",
            "Average Score: 85.00\n",
            "Number of Students: 3\n"
          ]
        }
      ]
    },
    {
      "cell_type": "markdown",
      "source": [
        "#Communicational Cohesion:"
      ],
      "metadata": {
        "id": "D9nJtLB3m6rP"
      }
    },
    {
      "cell_type": "markdown",
      "source": [
        "Elements perform different tasks on the same input or output data.\n"
      ],
      "metadata": {
        "id": "9NNsNrImm7eM"
      }
    },
    {
      "cell_type": "code",
      "source": [
        "# Communicational Cohesion Example: Analyze Employee Salaries\n",
        "\n",
        "def analyze_employee_salaries(filename):\n",
        "    \"\"\"Read employee data from a CSV file, analyze salaries, and visualize the distribution.\"\"\"\n",
        "    data = read_employee_data(filename)\n",
        "    salaries = extract_salaries(data)\n",
        "    salary_stats = calculate_salary_stats(salaries)\n",
        "    visualize_salary_distribution(salaries)\n",
        "\n",
        "def read_employee_data(filename):\n",
        "    \"\"\"Read employee data from a CSV file.\"\"\"\n",
        "    # Assume CSV reading logic here\n",
        "    return [{\"name\": \"Alice\", \"salary\": 50000},\n",
        "            {\"name\": \"Bob\", \"salary\": 60000},\n",
        "            {\"name\": \"Charlie\", \"salary\": 75000}]\n",
        "\n",
        "def extract_salaries(data):\n",
        "    \"\"\"Extract salaries from employee data.\"\"\"\n",
        "    return [employee[\"salary\"] for employee in data]\n",
        "\n",
        "def calculate_salary_stats(salaries):\n",
        "    \"\"\"Calculate statistics (e.g., average, maximum) on employee salaries.\"\"\"\n",
        "    average_salary = sum(salaries) / len(salaries)\n",
        "    max_salary = max(salaries)\n",
        "    return {\"average_salary\": average_salary, \"max_salary\": max_salary}\n",
        "\n",
        "def visualize_salary_distribution(salaries):\n",
        "    \"\"\"Visualize the distribution of employee salaries.\"\"\"\n",
        "    # Visualization code (e.g., histogram, box plot)\n",
        "    print(\"Salary Distribution Visualization:\")\n",
        "    for salary in salaries:\n",
        "        print(f\"Salary: {salary}\")\n",
        "\n",
        "# Usage\n",
        "filename = \"employees.csv\"\n",
        "analyze_employee_salaries(filename)"
      ],
      "metadata": {
        "colab": {
          "base_uri": "https://localhost:8080/"
        },
        "id": "81ijR6RUm7VU",
        "outputId": "af33e4d2-db29-4487-95d4-a1e0da824966"
      },
      "execution_count": null,
      "outputs": [
        {
          "output_type": "stream",
          "name": "stdout",
          "text": [
            "Salary Distribution Visualization:\n",
            "Salary: 50000\n",
            "Salary: 60000\n",
            "Salary: 75000\n"
          ]
        }
      ]
    },
    {
      "cell_type": "markdown",
      "source": [
        "#Procedural Cohesion:"
      ],
      "metadata": {
        "id": "KP1Oc9nZnEUc"
      }
    },
    {
      "cell_type": "markdown",
      "source": [
        "Elements in the module work together to accomplish a specific procedure."
      ],
      "metadata": {
        "id": "pYfhOrcOnE-6"
      }
    },
    {
      "cell_type": "code",
      "source": [
        "# Procedural Cohesion Example: Process Customer Order\n",
        "\n",
        "def process_customer_order(order):\n",
        "    \"\"\"Process a customer order by validating, updating inventory, and sending confirmation.\"\"\"\n",
        "    validate_order(order)\n",
        "    update_inventory(order)\n",
        "    send_confirmation_email(order)\n",
        "\n",
        "def validate_order(order):\n",
        "    \"\"\"Validate the customer order.\"\"\"\n",
        "    if order[\"total\"] <= 0:\n",
        "        raise ValueError(\"Invalid order total.\")\n",
        "\n",
        "def update_inventory(order):\n",
        "    \"\"\"Update inventory based on the items in the order.\"\"\"\n",
        "    for item in order[\"items\"]:\n",
        "        # Update inventory logic\n",
        "        print(f\"Updating inventory for item: {item}\")\n",
        "\n",
        "def send_confirmation_email(order):\n",
        "    \"\"\"Send a confirmation email to the customer.\"\"\"\n",
        "    print(f\"Sending confirmation email for order #{order['id']} to customer...\")\n",
        "\n",
        "# Usage\n",
        "order = {\"id\": 123, \"items\": [\"Laptop\", \"Mouse\"], \"total\": 1500}\n",
        "process_customer_order(order)"
      ],
      "metadata": {
        "colab": {
          "base_uri": "https://localhost:8080/"
        },
        "id": "FTS_Fh1NnG5D",
        "outputId": "c123da13-7630-4df6-de0d-e812a0f8c010"
      },
      "execution_count": null,
      "outputs": [
        {
          "output_type": "stream",
          "name": "stdout",
          "text": [
            "Updating inventory for item: Laptop\n",
            "Updating inventory for item: Mouse\n",
            "Sending confirmation email for order #123 to customer...\n"
          ]
        }
      ]
    },
    {
      "cell_type": "markdown",
      "source": [
        "#Temporal Cohesion:"
      ],
      "metadata": {
        "id": "NY_sHdRtnNAj"
      }
    },
    {
      "cell_type": "markdown",
      "source": [
        "Elements are grouped together based on when they are executed.\n"
      ],
      "metadata": {
        "id": "US9W6Gb2nXny"
      }
    },
    {
      "cell_type": "code",
      "source": [
        "# Temporal Cohesion Example: Daily Tasks\n",
        "\n",
        "def perform_daily_tasks():\n",
        "    \"\"\"Perform daily tasks including data fetching, processing, and reporting.\"\"\"\n",
        "    fetch_data()\n",
        "    process_data()\n",
        "    generate_report()\n",
        "\n",
        "def fetch_data():\n",
        "    \"\"\"Fetch data from a data source (e.g., API, database).\"\"\"\n",
        "    print(\"Fetching data from source...\")\n",
        "\n",
        "def process_data():\n",
        "    \"\"\"Process the fetched data.\"\"\"\n",
        "    print(\"Processing data...\")\n",
        "\n",
        "def generate_report():\n",
        "    \"\"\"Generate a daily report.\"\"\"\n",
        "    print(\"Generating daily report...\")\n",
        "\n",
        "# Usage\n",
        "perform_daily_tasks()"
      ],
      "metadata": {
        "colab": {
          "base_uri": "https://localhost:8080/"
        },
        "id": "GxgmS_-Fnfkq",
        "outputId": "0d032b39-bb34-41a0-e913-e4217579f6f9"
      },
      "execution_count": null,
      "outputs": [
        {
          "output_type": "stream",
          "name": "stdout",
          "text": [
            "Fetching data from source...\n",
            "Processing data...\n",
            "Generating daily report...\n"
          ]
        }
      ]
    },
    {
      "cell_type": "markdown",
      "source": [
        "#Logical Cohesion:"
      ],
      "metadata": {
        "id": "xsloV1G3ntnz"
      }
    },
    {
      "cell_type": "markdown",
      "source": [
        "Elements are grouped because they are logically categorized to perform similar operations.\n"
      ],
      "metadata": {
        "id": "ucQW98nlnuaD"
      }
    },
    {
      "cell_type": "code",
      "source": [
        "# Logical Cohesion Example: File Manager Class\n",
        "\n",
        "class FileManager:\n",
        "    \"\"\"Class for managing file operations such as reading and writing.\"\"\"\n",
        "\n",
        "    def __init__(self, directory):\n",
        "        self.directory = directory\n",
        "\n",
        "    def read_file(self, filename):\n",
        "        \"\"\"Read data from a file.\"\"\"\n",
        "        with open(f\"{self.directory}/{filename}\", \"r\") as file:\n",
        "            data = file.read()\n",
        "            return data\n",
        "\n",
        "    def write_file(self, filename, data):\n",
        "        \"\"\"Write data to a file.\"\"\"\n",
        "        with open(f\"{self.directory}/{filename}\", \"w\") as file:\n",
        "            file.write(data)\n",
        "            print(f\"Data written to {filename}.\")\n",
        "\n",
        "# Usage\n",
        "file_manager = FileManager(\"data_files\")\n",
        "file_content = file_manager.read_file(\"example.txt\")\n",
        "print(\"File Content:\", file_content)\n",
        "\n",
        "file_manager.write_file(\"output.txt\", \"Hello, world!\")"
      ],
      "metadata": {
        "id": "iRvllJLfn9zb"
      },
      "execution_count": null,
      "outputs": []
    },
    {
      "cell_type": "markdown",
      "source": [
        "#Coincidental Cohesion:"
      ],
      "metadata": {
        "id": "GCjpxmmioAbj"
      }
    },
    {
      "cell_type": "markdown",
      "source": [
        "Elements are grouped together randomly without a clear purpose or relation.\n"
      ],
      "metadata": {
        "id": "Li68ppvRoHWL"
      }
    },
    {
      "cell_type": "code",
      "source": [
        "# Coincidental Cohesion Example: Performing Unrelated Operations\n",
        "\n",
        "def do_operations(a, b, c):\n",
        "    \"\"\"Perform unrelated mathematical operations on input variables.\"\"\"\n",
        "    result1 = a * b\n",
        "    result2 = c ** 2\n",
        "    print(f\"Result 1: {result1}, Result 2: {result2}\")\n",
        "\n",
        "# Usage\n",
        "do_operations(2, 3, 4)"
      ],
      "metadata": {
        "colab": {
          "base_uri": "https://localhost:8080/"
        },
        "id": "o55RjGvqoZVz",
        "outputId": "7df68d50-9bd1-4872-bd24-5d12fbdc2c9b"
      },
      "execution_count": null,
      "outputs": [
        {
          "output_type": "stream",
          "name": "stdout",
          "text": [
            "Result 1: 6, Result 2: 16\n"
          ]
        }
      ]
    }
  ]
}